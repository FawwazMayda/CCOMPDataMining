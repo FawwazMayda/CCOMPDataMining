{
 "cells": [
  {
   "cell_type": "code",
   "execution_count": 1,
   "metadata": {
    "collapsed": true
   },
   "outputs": [],
   "source": [
    "import pandas as pd\n",
    "import numpy as np\n",
    "import matplotlib.pyplot as plt"
   ]
  },
  {
   "cell_type": "code",
   "execution_count": 2,
   "metadata": {
    "collapsed": true
   },
   "outputs": [],
   "source": [
    "df=pd.read_csv('train.csv')\n",
    "df_asli=pd.read_csv('train.csv')"
   ]
  },
  {
   "cell_type": "code",
   "execution_count": 3,
   "metadata": {
    "collapsed": false
   },
   "outputs": [
    {
     "data": {
      "text/html": [
       "<div>\n",
       "<table border=\"1\" class=\"dataframe\">\n",
       "  <thead>\n",
       "    <tr style=\"text-align: right;\">\n",
       "      <th></th>\n",
       "      <th>A</th>\n",
       "      <th>B</th>\n",
       "      <th>C</th>\n",
       "      <th>D</th>\n",
       "      <th>E</th>\n",
       "      <th>F</th>\n",
       "      <th>G</th>\n",
       "      <th>H</th>\n",
       "      <th>I</th>\n",
       "      <th>J</th>\n",
       "      <th>...</th>\n",
       "      <th>P</th>\n",
       "      <th>Q</th>\n",
       "      <th>R</th>\n",
       "      <th>S</th>\n",
       "      <th>T</th>\n",
       "      <th>U</th>\n",
       "      <th>V</th>\n",
       "      <th>W</th>\n",
       "      <th>X</th>\n",
       "      <th>Y</th>\n",
       "    </tr>\n",
       "  </thead>\n",
       "  <tbody>\n",
       "    <tr>\n",
       "      <th>0</th>\n",
       "      <td>5770</td>\n",
       "      <td>360000</td>\n",
       "      <td>1</td>\n",
       "      <td>2</td>\n",
       "      <td>1</td>\n",
       "      <td>45</td>\n",
       "      <td>2</td>\n",
       "      <td>2</td>\n",
       "      <td>-2</td>\n",
       "      <td>-2</td>\n",
       "      <td>...</td>\n",
       "      <td>0</td>\n",
       "      <td>0</td>\n",
       "      <td>0</td>\n",
       "      <td>0</td>\n",
       "      <td>0</td>\n",
       "      <td>0</td>\n",
       "      <td>0</td>\n",
       "      <td>0</td>\n",
       "      <td>0</td>\n",
       "      <td>0</td>\n",
       "    </tr>\n",
       "    <tr>\n",
       "      <th>1</th>\n",
       "      <td>5772</td>\n",
       "      <td>300000</td>\n",
       "      <td>1</td>\n",
       "      <td>2</td>\n",
       "      <td>1</td>\n",
       "      <td>40</td>\n",
       "      <td>-2</td>\n",
       "      <td>-2</td>\n",
       "      <td>-2</td>\n",
       "      <td>-2</td>\n",
       "      <td>...</td>\n",
       "      <td>2208</td>\n",
       "      <td>2475</td>\n",
       "      <td>7580</td>\n",
       "      <td>4347</td>\n",
       "      <td>0</td>\n",
       "      <td>2208</td>\n",
       "      <td>2475</td>\n",
       "      <td>7580</td>\n",
       "      <td>0</td>\n",
       "      <td>0</td>\n",
       "    </tr>\n",
       "    <tr>\n",
       "      <th>2</th>\n",
       "      <td>5773</td>\n",
       "      <td>20000</td>\n",
       "      <td>2</td>\n",
       "      <td>1</td>\n",
       "      <td>2</td>\n",
       "      <td>22</td>\n",
       "      <td>-2</td>\n",
       "      <td>-2</td>\n",
       "      <td>-2</td>\n",
       "      <td>-2</td>\n",
       "      <td>...</td>\n",
       "      <td>304</td>\n",
       "      <td>0</td>\n",
       "      <td>302</td>\n",
       "      <td>0</td>\n",
       "      <td>913</td>\n",
       "      <td>304</td>\n",
       "      <td>0</td>\n",
       "      <td>302</td>\n",
       "      <td>7676</td>\n",
       "      <td>0</td>\n",
       "    </tr>\n",
       "    <tr>\n",
       "      <th>3</th>\n",
       "      <td>5774</td>\n",
       "      <td>270000</td>\n",
       "      <td>2</td>\n",
       "      <td>2</td>\n",
       "      <td>2</td>\n",
       "      <td>26</td>\n",
       "      <td>0</td>\n",
       "      <td>0</td>\n",
       "      <td>0</td>\n",
       "      <td>0</td>\n",
       "      <td>...</td>\n",
       "      <td>14391</td>\n",
       "      <td>15255</td>\n",
       "      <td>16273</td>\n",
       "      <td>1300</td>\n",
       "      <td>1533</td>\n",
       "      <td>1391</td>\n",
       "      <td>1255</td>\n",
       "      <td>1273</td>\n",
       "      <td>1000</td>\n",
       "      <td>0</td>\n",
       "    </tr>\n",
       "    <tr>\n",
       "      <th>4</th>\n",
       "      <td>5775</td>\n",
       "      <td>20000</td>\n",
       "      <td>2</td>\n",
       "      <td>3</td>\n",
       "      <td>2</td>\n",
       "      <td>49</td>\n",
       "      <td>0</td>\n",
       "      <td>0</td>\n",
       "      <td>0</td>\n",
       "      <td>0</td>\n",
       "      <td>...</td>\n",
       "      <td>19334</td>\n",
       "      <td>19373</td>\n",
       "      <td>19460</td>\n",
       "      <td>1337</td>\n",
       "      <td>2000</td>\n",
       "      <td>666</td>\n",
       "      <td>714</td>\n",
       "      <td>810</td>\n",
       "      <td>600</td>\n",
       "      <td>0</td>\n",
       "    </tr>\n",
       "  </tbody>\n",
       "</table>\n",
       "<p>5 rows × 25 columns</p>\n",
       "</div>"
      ],
      "text/plain": [
       "      A       B  C  D  E   F  G  H  I  J ...      P      Q      R     S     T  \\\n",
       "0  5770  360000  1  2  1  45  2  2 -2 -2 ...      0      0      0     0     0   \n",
       "1  5772  300000  1  2  1  40 -2 -2 -2 -2 ...   2208   2475   7580  4347     0   \n",
       "2  5773   20000  2  1  2  22 -2 -2 -2 -2 ...    304      0    302     0   913   \n",
       "3  5774  270000  2  2  2  26  0  0  0  0 ...  14391  15255  16273  1300  1533   \n",
       "4  5775   20000  2  3  2  49  0  0  0  0 ...  19334  19373  19460  1337  2000   \n",
       "\n",
       "      U     V     W     X  Y  \n",
       "0     0     0     0     0  0  \n",
       "1  2208  2475  7580     0  0  \n",
       "2   304     0   302  7676  0  \n",
       "3  1391  1255  1273  1000  0  \n",
       "4   666   714   810   600  0  \n",
       "\n",
       "[5 rows x 25 columns]"
      ]
     },
     "execution_count": 3,
     "metadata": {},
     "output_type": "execute_result"
    }
   ],
   "source": [
    "df.head()"
   ]
  },
  {
   "cell_type": "code",
   "execution_count": 4,
   "metadata": {
    "collapsed": true
   },
   "outputs": [],
   "source": [
    "nama_col=['ID','Jumlah_kredit','Jenis_kelamin','Pendidikan','Status_Nikah','Umur',\n",
    "          'Waktu_bulan_1','Waktu_bulan_2','Waktu_bulan_3','Waktu_bulan_4','Waktu_bulan_5','Waktu_bulan_6',\n",
    "         'Tagihan_bulan_1','Tagihan_bulan_2','Tagihan_bulan_3','Tagihan_bulan_4','Tagihan_bulan_5','Tagihan_bulan_6',\n",
    "         'Bayar_bulan_1','Bayar_bulan_2','Bayar_bulan_3','Bayar_bulan_4','Bayar_bulan_5','Bayar_bulan_6','Status']"
   ]
  },
  {
   "cell_type": "code",
   "execution_count": 5,
   "metadata": {
    "collapsed": false
   },
   "outputs": [
    {
     "data": {
      "text/html": [
       "<div>\n",
       "<table border=\"1\" class=\"dataframe\">\n",
       "  <thead>\n",
       "    <tr style=\"text-align: right;\">\n",
       "      <th></th>\n",
       "      <th>ID</th>\n",
       "      <th>Jumlah_kredit</th>\n",
       "      <th>Jenis_kelamin</th>\n",
       "      <th>Pendidikan</th>\n",
       "      <th>Status_Nikah</th>\n",
       "      <th>Umur</th>\n",
       "      <th>Waktu_bulan_1</th>\n",
       "      <th>Waktu_bulan_2</th>\n",
       "      <th>Waktu_bulan_3</th>\n",
       "      <th>Waktu_bulan_4</th>\n",
       "      <th>...</th>\n",
       "      <th>Tagihan_bulan_4</th>\n",
       "      <th>Tagihan_bulan_5</th>\n",
       "      <th>Tagihan_bulan_6</th>\n",
       "      <th>Bayar_bulan_1</th>\n",
       "      <th>Bayar_bulan_2</th>\n",
       "      <th>Bayar_bulan_3</th>\n",
       "      <th>Bayar_bulan_4</th>\n",
       "      <th>Bayar_bulan_5</th>\n",
       "      <th>Bayar_bulan_6</th>\n",
       "      <th>Status</th>\n",
       "    </tr>\n",
       "  </thead>\n",
       "  <tbody>\n",
       "    <tr>\n",
       "      <th>0</th>\n",
       "      <td>5770</td>\n",
       "      <td>360000</td>\n",
       "      <td>1</td>\n",
       "      <td>2</td>\n",
       "      <td>1</td>\n",
       "      <td>45</td>\n",
       "      <td>2</td>\n",
       "      <td>2</td>\n",
       "      <td>-2</td>\n",
       "      <td>-2</td>\n",
       "      <td>...</td>\n",
       "      <td>0</td>\n",
       "      <td>0</td>\n",
       "      <td>0</td>\n",
       "      <td>0</td>\n",
       "      <td>0</td>\n",
       "      <td>0</td>\n",
       "      <td>0</td>\n",
       "      <td>0</td>\n",
       "      <td>0</td>\n",
       "      <td>0</td>\n",
       "    </tr>\n",
       "    <tr>\n",
       "      <th>1</th>\n",
       "      <td>5772</td>\n",
       "      <td>300000</td>\n",
       "      <td>1</td>\n",
       "      <td>2</td>\n",
       "      <td>1</td>\n",
       "      <td>40</td>\n",
       "      <td>-2</td>\n",
       "      <td>-2</td>\n",
       "      <td>-2</td>\n",
       "      <td>-2</td>\n",
       "      <td>...</td>\n",
       "      <td>2208</td>\n",
       "      <td>2475</td>\n",
       "      <td>7580</td>\n",
       "      <td>4347</td>\n",
       "      <td>0</td>\n",
       "      <td>2208</td>\n",
       "      <td>2475</td>\n",
       "      <td>7580</td>\n",
       "      <td>0</td>\n",
       "      <td>0</td>\n",
       "    </tr>\n",
       "    <tr>\n",
       "      <th>2</th>\n",
       "      <td>5773</td>\n",
       "      <td>20000</td>\n",
       "      <td>2</td>\n",
       "      <td>1</td>\n",
       "      <td>2</td>\n",
       "      <td>22</td>\n",
       "      <td>-2</td>\n",
       "      <td>-2</td>\n",
       "      <td>-2</td>\n",
       "      <td>-2</td>\n",
       "      <td>...</td>\n",
       "      <td>304</td>\n",
       "      <td>0</td>\n",
       "      <td>302</td>\n",
       "      <td>0</td>\n",
       "      <td>913</td>\n",
       "      <td>304</td>\n",
       "      <td>0</td>\n",
       "      <td>302</td>\n",
       "      <td>7676</td>\n",
       "      <td>0</td>\n",
       "    </tr>\n",
       "    <tr>\n",
       "      <th>3</th>\n",
       "      <td>5774</td>\n",
       "      <td>270000</td>\n",
       "      <td>2</td>\n",
       "      <td>2</td>\n",
       "      <td>2</td>\n",
       "      <td>26</td>\n",
       "      <td>0</td>\n",
       "      <td>0</td>\n",
       "      <td>0</td>\n",
       "      <td>0</td>\n",
       "      <td>...</td>\n",
       "      <td>14391</td>\n",
       "      <td>15255</td>\n",
       "      <td>16273</td>\n",
       "      <td>1300</td>\n",
       "      <td>1533</td>\n",
       "      <td>1391</td>\n",
       "      <td>1255</td>\n",
       "      <td>1273</td>\n",
       "      <td>1000</td>\n",
       "      <td>0</td>\n",
       "    </tr>\n",
       "    <tr>\n",
       "      <th>4</th>\n",
       "      <td>5775</td>\n",
       "      <td>20000</td>\n",
       "      <td>2</td>\n",
       "      <td>3</td>\n",
       "      <td>2</td>\n",
       "      <td>49</td>\n",
       "      <td>0</td>\n",
       "      <td>0</td>\n",
       "      <td>0</td>\n",
       "      <td>0</td>\n",
       "      <td>...</td>\n",
       "      <td>19334</td>\n",
       "      <td>19373</td>\n",
       "      <td>19460</td>\n",
       "      <td>1337</td>\n",
       "      <td>2000</td>\n",
       "      <td>666</td>\n",
       "      <td>714</td>\n",
       "      <td>810</td>\n",
       "      <td>600</td>\n",
       "      <td>0</td>\n",
       "    </tr>\n",
       "  </tbody>\n",
       "</table>\n",
       "<p>5 rows × 25 columns</p>\n",
       "</div>"
      ],
      "text/plain": [
       "     ID  Jumlah_kredit  Jenis_kelamin  Pendidikan  Status_Nikah  Umur  \\\n",
       "0  5770         360000              1           2             1    45   \n",
       "1  5772         300000              1           2             1    40   \n",
       "2  5773          20000              2           1             2    22   \n",
       "3  5774         270000              2           2             2    26   \n",
       "4  5775          20000              2           3             2    49   \n",
       "\n",
       "   Waktu_bulan_1  Waktu_bulan_2  Waktu_bulan_3  Waktu_bulan_4   ...    \\\n",
       "0              2              2             -2             -2   ...     \n",
       "1             -2             -2             -2             -2   ...     \n",
       "2             -2             -2             -2             -2   ...     \n",
       "3              0              0              0              0   ...     \n",
       "4              0              0              0              0   ...     \n",
       "\n",
       "   Tagihan_bulan_4  Tagihan_bulan_5  Tagihan_bulan_6  Bayar_bulan_1  \\\n",
       "0                0                0                0              0   \n",
       "1             2208             2475             7580           4347   \n",
       "2              304                0              302              0   \n",
       "3            14391            15255            16273           1300   \n",
       "4            19334            19373            19460           1337   \n",
       "\n",
       "   Bayar_bulan_2  Bayar_bulan_3  Bayar_bulan_4  Bayar_bulan_5  Bayar_bulan_6  \\\n",
       "0              0              0              0              0              0   \n",
       "1              0           2208           2475           7580              0   \n",
       "2            913            304              0            302           7676   \n",
       "3           1533           1391           1255           1273           1000   \n",
       "4           2000            666            714            810            600   \n",
       "\n",
       "   Status  \n",
       "0       0  \n",
       "1       0  \n",
       "2       0  \n",
       "3       0  \n",
       "4       0  \n",
       "\n",
       "[5 rows x 25 columns]"
      ]
     },
     "execution_count": 5,
     "metadata": {},
     "output_type": "execute_result"
    }
   ],
   "source": [
    "df.columns=nama_col\n",
    "df.head()"
   ]
  },
  {
   "cell_type": "code",
   "execution_count": 6,
   "metadata": {
    "collapsed": true
   },
   "outputs": [],
   "source": [
    "df.to_csv('Train_named.csv')"
   ]
  },
  {
   "cell_type": "code",
   "execution_count": 7,
   "metadata": {
    "collapsed": false
   },
   "outputs": [
    {
     "data": {
      "text/plain": [
       "array([1, 2], dtype=int64)"
      ]
     },
     "execution_count": 7,
     "metadata": {},
     "output_type": "execute_result"
    }
   ],
   "source": [
    "df['Jenis_kelamin'].unique()"
   ]
  },
  {
   "cell_type": "markdown",
   "metadata": {},
   "source": [
    "Buat Jenis kelamin jadi Laki-Laki=1 dan Perempuan=2"
   ]
  },
  {
   "cell_type": "code",
   "execution_count": 8,
   "metadata": {
    "collapsed": false
   },
   "outputs": [],
   "source": [
    "df['Jenis_kelamin']=np.where(df['Jenis_kelamin']==1,'Male',df['Jenis_kelamin'])\n",
    "df['Jenis_kelamin']=np.where(df['Jenis_kelamin']=='2','Female',df['Jenis_kelamin'])"
   ]
  },
  {
   "cell_type": "code",
   "execution_count": 9,
   "metadata": {
    "collapsed": false,
    "scrolled": true
   },
   "outputs": [
    {
     "data": {
      "text/html": [
       "<div>\n",
       "<table border=\"1\" class=\"dataframe\">\n",
       "  <thead>\n",
       "    <tr style=\"text-align: right;\">\n",
       "      <th></th>\n",
       "      <th>ID</th>\n",
       "      <th>Jumlah_kredit</th>\n",
       "      <th>Jenis_kelamin</th>\n",
       "      <th>Pendidikan</th>\n",
       "      <th>Status_Nikah</th>\n",
       "      <th>Umur</th>\n",
       "      <th>Waktu_bulan_1</th>\n",
       "      <th>Waktu_bulan_2</th>\n",
       "      <th>Waktu_bulan_3</th>\n",
       "      <th>Waktu_bulan_4</th>\n",
       "      <th>...</th>\n",
       "      <th>Tagihan_bulan_4</th>\n",
       "      <th>Tagihan_bulan_5</th>\n",
       "      <th>Tagihan_bulan_6</th>\n",
       "      <th>Bayar_bulan_1</th>\n",
       "      <th>Bayar_bulan_2</th>\n",
       "      <th>Bayar_bulan_3</th>\n",
       "      <th>Bayar_bulan_4</th>\n",
       "      <th>Bayar_bulan_5</th>\n",
       "      <th>Bayar_bulan_6</th>\n",
       "      <th>Status</th>\n",
       "    </tr>\n",
       "  </thead>\n",
       "  <tbody>\n",
       "    <tr>\n",
       "      <th>0</th>\n",
       "      <td>5770</td>\n",
       "      <td>360000</td>\n",
       "      <td>Male</td>\n",
       "      <td>2</td>\n",
       "      <td>1</td>\n",
       "      <td>45</td>\n",
       "      <td>2</td>\n",
       "      <td>2</td>\n",
       "      <td>-2</td>\n",
       "      <td>-2</td>\n",
       "      <td>...</td>\n",
       "      <td>0</td>\n",
       "      <td>0</td>\n",
       "      <td>0</td>\n",
       "      <td>0</td>\n",
       "      <td>0</td>\n",
       "      <td>0</td>\n",
       "      <td>0</td>\n",
       "      <td>0</td>\n",
       "      <td>0</td>\n",
       "      <td>0</td>\n",
       "    </tr>\n",
       "    <tr>\n",
       "      <th>1</th>\n",
       "      <td>5772</td>\n",
       "      <td>300000</td>\n",
       "      <td>Male</td>\n",
       "      <td>2</td>\n",
       "      <td>1</td>\n",
       "      <td>40</td>\n",
       "      <td>-2</td>\n",
       "      <td>-2</td>\n",
       "      <td>-2</td>\n",
       "      <td>-2</td>\n",
       "      <td>...</td>\n",
       "      <td>2208</td>\n",
       "      <td>2475</td>\n",
       "      <td>7580</td>\n",
       "      <td>4347</td>\n",
       "      <td>0</td>\n",
       "      <td>2208</td>\n",
       "      <td>2475</td>\n",
       "      <td>7580</td>\n",
       "      <td>0</td>\n",
       "      <td>0</td>\n",
       "    </tr>\n",
       "    <tr>\n",
       "      <th>2</th>\n",
       "      <td>5773</td>\n",
       "      <td>20000</td>\n",
       "      <td>Female</td>\n",
       "      <td>1</td>\n",
       "      <td>2</td>\n",
       "      <td>22</td>\n",
       "      <td>-2</td>\n",
       "      <td>-2</td>\n",
       "      <td>-2</td>\n",
       "      <td>-2</td>\n",
       "      <td>...</td>\n",
       "      <td>304</td>\n",
       "      <td>0</td>\n",
       "      <td>302</td>\n",
       "      <td>0</td>\n",
       "      <td>913</td>\n",
       "      <td>304</td>\n",
       "      <td>0</td>\n",
       "      <td>302</td>\n",
       "      <td>7676</td>\n",
       "      <td>0</td>\n",
       "    </tr>\n",
       "    <tr>\n",
       "      <th>3</th>\n",
       "      <td>5774</td>\n",
       "      <td>270000</td>\n",
       "      <td>Female</td>\n",
       "      <td>2</td>\n",
       "      <td>2</td>\n",
       "      <td>26</td>\n",
       "      <td>0</td>\n",
       "      <td>0</td>\n",
       "      <td>0</td>\n",
       "      <td>0</td>\n",
       "      <td>...</td>\n",
       "      <td>14391</td>\n",
       "      <td>15255</td>\n",
       "      <td>16273</td>\n",
       "      <td>1300</td>\n",
       "      <td>1533</td>\n",
       "      <td>1391</td>\n",
       "      <td>1255</td>\n",
       "      <td>1273</td>\n",
       "      <td>1000</td>\n",
       "      <td>0</td>\n",
       "    </tr>\n",
       "    <tr>\n",
       "      <th>4</th>\n",
       "      <td>5775</td>\n",
       "      <td>20000</td>\n",
       "      <td>Female</td>\n",
       "      <td>3</td>\n",
       "      <td>2</td>\n",
       "      <td>49</td>\n",
       "      <td>0</td>\n",
       "      <td>0</td>\n",
       "      <td>0</td>\n",
       "      <td>0</td>\n",
       "      <td>...</td>\n",
       "      <td>19334</td>\n",
       "      <td>19373</td>\n",
       "      <td>19460</td>\n",
       "      <td>1337</td>\n",
       "      <td>2000</td>\n",
       "      <td>666</td>\n",
       "      <td>714</td>\n",
       "      <td>810</td>\n",
       "      <td>600</td>\n",
       "      <td>0</td>\n",
       "    </tr>\n",
       "  </tbody>\n",
       "</table>\n",
       "<p>5 rows × 25 columns</p>\n",
       "</div>"
      ],
      "text/plain": [
       "     ID  Jumlah_kredit Jenis_kelamin  Pendidikan  Status_Nikah  Umur  \\\n",
       "0  5770         360000          Male           2             1    45   \n",
       "1  5772         300000          Male           2             1    40   \n",
       "2  5773          20000        Female           1             2    22   \n",
       "3  5774         270000        Female           2             2    26   \n",
       "4  5775          20000        Female           3             2    49   \n",
       "\n",
       "   Waktu_bulan_1  Waktu_bulan_2  Waktu_bulan_3  Waktu_bulan_4   ...    \\\n",
       "0              2              2             -2             -2   ...     \n",
       "1             -2             -2             -2             -2   ...     \n",
       "2             -2             -2             -2             -2   ...     \n",
       "3              0              0              0              0   ...     \n",
       "4              0              0              0              0   ...     \n",
       "\n",
       "   Tagihan_bulan_4  Tagihan_bulan_5  Tagihan_bulan_6  Bayar_bulan_1  \\\n",
       "0                0                0                0              0   \n",
       "1             2208             2475             7580           4347   \n",
       "2              304                0              302              0   \n",
       "3            14391            15255            16273           1300   \n",
       "4            19334            19373            19460           1337   \n",
       "\n",
       "   Bayar_bulan_2  Bayar_bulan_3  Bayar_bulan_4  Bayar_bulan_5  Bayar_bulan_6  \\\n",
       "0              0              0              0              0              0   \n",
       "1              0           2208           2475           7580              0   \n",
       "2            913            304              0            302           7676   \n",
       "3           1533           1391           1255           1273           1000   \n",
       "4           2000            666            714            810            600   \n",
       "\n",
       "   Status  \n",
       "0       0  \n",
       "1       0  \n",
       "2       0  \n",
       "3       0  \n",
       "4       0  \n",
       "\n",
       "[5 rows x 25 columns]"
      ]
     },
     "execution_count": 9,
     "metadata": {},
     "output_type": "execute_result"
    }
   ],
   "source": [
    "df.head()"
   ]
  },
  {
   "cell_type": "code",
   "execution_count": 10,
   "metadata": {
    "collapsed": false
   },
   "outputs": [
    {
     "data": {
      "text/plain": [
       "array(['Male', 'Female'], dtype=object)"
      ]
     },
     "execution_count": 10,
     "metadata": {},
     "output_type": "execute_result"
    }
   ],
   "source": [
    "df['Jenis_kelamin'].unique()"
   ]
  },
  {
   "cell_type": "markdown",
   "metadata": {},
   "source": [
    "Buat Edukasi menjadi 1=Master 2=Sarjana 3=SMA 4=Lainnya"
   ]
  },
  {
   "cell_type": "code",
   "execution_count": 11,
   "metadata": {
    "collapsed": false
   },
   "outputs": [
    {
     "data": {
      "text/plain": [
       "pandas.core.series.Series"
      ]
     },
     "execution_count": 11,
     "metadata": {},
     "output_type": "execute_result"
    }
   ],
   "source": [
    "type(df['Pendidikan'])"
   ]
  },
  {
   "cell_type": "code",
   "execution_count": 12,
   "metadata": {
    "collapsed": false
   },
   "outputs": [
    {
     "data": {
      "text/plain": [
       "array([2, 1, 3, 0, 5, 4, 6], dtype=int64)"
      ]
     },
     "execution_count": 12,
     "metadata": {},
     "output_type": "execute_result"
    }
   ],
   "source": [
    "df['Pendidikan'].unique()"
   ]
  },
  {
   "cell_type": "code",
   "execution_count": 13,
   "metadata": {
    "collapsed": false
   },
   "outputs": [
    {
     "data": {
      "text/plain": [
       "array([2, 1, 3, 0, 5, 4, 6], dtype=int64)"
      ]
     },
     "execution_count": 13,
     "metadata": {},
     "output_type": "execute_result"
    }
   ],
   "source": [
    "df_asli['D'].unique()"
   ]
  },
  {
   "cell_type": "code",
   "execution_count": 14,
   "metadata": {
    "collapsed": true
   },
   "outputs": [],
   "source": [
    "def pendidikan(x):\n",
    "    if x==2:\n",
    "        return 'Sarjana'\n",
    "    elif x==1:\n",
    "        return 'Master'\n",
    "    elif x==3:\n",
    "        return 'SMA'\n",
    "    else:\n",
    "        return 'Lainnya'"
   ]
  },
  {
   "cell_type": "code",
   "execution_count": 15,
   "metadata": {
    "collapsed": false
   },
   "outputs": [
    {
     "name": "stdout",
     "output_type": "stream",
     "text": [
      "0        2\n",
      "1        2\n",
      "2        1\n",
      "3        2\n",
      "4        3\n",
      "5        2\n",
      "6        2\n",
      "7        3\n",
      "8        3\n",
      "9        2\n",
      "10       3\n",
      "11       3\n",
      "12       1\n",
      "13       3\n",
      "14       1\n",
      "15       2\n",
      "16       2\n",
      "17       1\n",
      "18       2\n",
      "19       1\n",
      "20       2\n",
      "21       2\n",
      "22       3\n",
      "23       1\n",
      "24       1\n",
      "25       1\n",
      "26       1\n",
      "27       1\n",
      "28       1\n",
      "29       1\n",
      "        ..\n",
      "20970    1\n",
      "20971    3\n",
      "20972    1\n",
      "20973    2\n",
      "20974    2\n",
      "20975    2\n",
      "20976    2\n",
      "20977    1\n",
      "20978    2\n",
      "20979    1\n",
      "20980    3\n",
      "20981    2\n",
      "20982    2\n",
      "20983    2\n",
      "20984    2\n",
      "20985    1\n",
      "20986    1\n",
      "20987    1\n",
      "20988    1\n",
      "20989    1\n",
      "20990    2\n",
      "20991    2\n",
      "20992    3\n",
      "20993    1\n",
      "20994    2\n",
      "20995    3\n",
      "20996    3\n",
      "20997    2\n",
      "20998    3\n",
      "20999    2\n",
      "Name: Pendidikan, dtype: int64\n"
     ]
    }
   ],
   "source": [
    "print(df['Pendidikan'])"
   ]
  },
  {
   "cell_type": "code",
   "execution_count": 16,
   "metadata": {
    "collapsed": true
   },
   "outputs": [],
   "source": [
    "df['Pendidikan']=df['Pendidikan'].apply(pendidikan)"
   ]
  },
  {
   "cell_type": "code",
   "execution_count": 17,
   "metadata": {
    "collapsed": false
   },
   "outputs": [
    {
     "data": {
      "text/html": [
       "<div>\n",
       "<table border=\"1\" class=\"dataframe\">\n",
       "  <thead>\n",
       "    <tr style=\"text-align: right;\">\n",
       "      <th></th>\n",
       "      <th>ID</th>\n",
       "      <th>Jumlah_kredit</th>\n",
       "      <th>Jenis_kelamin</th>\n",
       "      <th>Pendidikan</th>\n",
       "      <th>Status_Nikah</th>\n",
       "      <th>Umur</th>\n",
       "      <th>Waktu_bulan_1</th>\n",
       "      <th>Waktu_bulan_2</th>\n",
       "      <th>Waktu_bulan_3</th>\n",
       "      <th>Waktu_bulan_4</th>\n",
       "      <th>...</th>\n",
       "      <th>Tagihan_bulan_4</th>\n",
       "      <th>Tagihan_bulan_5</th>\n",
       "      <th>Tagihan_bulan_6</th>\n",
       "      <th>Bayar_bulan_1</th>\n",
       "      <th>Bayar_bulan_2</th>\n",
       "      <th>Bayar_bulan_3</th>\n",
       "      <th>Bayar_bulan_4</th>\n",
       "      <th>Bayar_bulan_5</th>\n",
       "      <th>Bayar_bulan_6</th>\n",
       "      <th>Status</th>\n",
       "    </tr>\n",
       "  </thead>\n",
       "  <tbody>\n",
       "    <tr>\n",
       "      <th>0</th>\n",
       "      <td>5770</td>\n",
       "      <td>360000</td>\n",
       "      <td>Male</td>\n",
       "      <td>Sarjana</td>\n",
       "      <td>1</td>\n",
       "      <td>45</td>\n",
       "      <td>2</td>\n",
       "      <td>2</td>\n",
       "      <td>-2</td>\n",
       "      <td>-2</td>\n",
       "      <td>...</td>\n",
       "      <td>0</td>\n",
       "      <td>0</td>\n",
       "      <td>0</td>\n",
       "      <td>0</td>\n",
       "      <td>0</td>\n",
       "      <td>0</td>\n",
       "      <td>0</td>\n",
       "      <td>0</td>\n",
       "      <td>0</td>\n",
       "      <td>0</td>\n",
       "    </tr>\n",
       "    <tr>\n",
       "      <th>1</th>\n",
       "      <td>5772</td>\n",
       "      <td>300000</td>\n",
       "      <td>Male</td>\n",
       "      <td>Sarjana</td>\n",
       "      <td>1</td>\n",
       "      <td>40</td>\n",
       "      <td>-2</td>\n",
       "      <td>-2</td>\n",
       "      <td>-2</td>\n",
       "      <td>-2</td>\n",
       "      <td>...</td>\n",
       "      <td>2208</td>\n",
       "      <td>2475</td>\n",
       "      <td>7580</td>\n",
       "      <td>4347</td>\n",
       "      <td>0</td>\n",
       "      <td>2208</td>\n",
       "      <td>2475</td>\n",
       "      <td>7580</td>\n",
       "      <td>0</td>\n",
       "      <td>0</td>\n",
       "    </tr>\n",
       "    <tr>\n",
       "      <th>2</th>\n",
       "      <td>5773</td>\n",
       "      <td>20000</td>\n",
       "      <td>Female</td>\n",
       "      <td>Master</td>\n",
       "      <td>2</td>\n",
       "      <td>22</td>\n",
       "      <td>-2</td>\n",
       "      <td>-2</td>\n",
       "      <td>-2</td>\n",
       "      <td>-2</td>\n",
       "      <td>...</td>\n",
       "      <td>304</td>\n",
       "      <td>0</td>\n",
       "      <td>302</td>\n",
       "      <td>0</td>\n",
       "      <td>913</td>\n",
       "      <td>304</td>\n",
       "      <td>0</td>\n",
       "      <td>302</td>\n",
       "      <td>7676</td>\n",
       "      <td>0</td>\n",
       "    </tr>\n",
       "    <tr>\n",
       "      <th>3</th>\n",
       "      <td>5774</td>\n",
       "      <td>270000</td>\n",
       "      <td>Female</td>\n",
       "      <td>Sarjana</td>\n",
       "      <td>2</td>\n",
       "      <td>26</td>\n",
       "      <td>0</td>\n",
       "      <td>0</td>\n",
       "      <td>0</td>\n",
       "      <td>0</td>\n",
       "      <td>...</td>\n",
       "      <td>14391</td>\n",
       "      <td>15255</td>\n",
       "      <td>16273</td>\n",
       "      <td>1300</td>\n",
       "      <td>1533</td>\n",
       "      <td>1391</td>\n",
       "      <td>1255</td>\n",
       "      <td>1273</td>\n",
       "      <td>1000</td>\n",
       "      <td>0</td>\n",
       "    </tr>\n",
       "    <tr>\n",
       "      <th>4</th>\n",
       "      <td>5775</td>\n",
       "      <td>20000</td>\n",
       "      <td>Female</td>\n",
       "      <td>SMA</td>\n",
       "      <td>2</td>\n",
       "      <td>49</td>\n",
       "      <td>0</td>\n",
       "      <td>0</td>\n",
       "      <td>0</td>\n",
       "      <td>0</td>\n",
       "      <td>...</td>\n",
       "      <td>19334</td>\n",
       "      <td>19373</td>\n",
       "      <td>19460</td>\n",
       "      <td>1337</td>\n",
       "      <td>2000</td>\n",
       "      <td>666</td>\n",
       "      <td>714</td>\n",
       "      <td>810</td>\n",
       "      <td>600</td>\n",
       "      <td>0</td>\n",
       "    </tr>\n",
       "  </tbody>\n",
       "</table>\n",
       "<p>5 rows × 25 columns</p>\n",
       "</div>"
      ],
      "text/plain": [
       "     ID  Jumlah_kredit Jenis_kelamin Pendidikan  Status_Nikah  Umur  \\\n",
       "0  5770         360000          Male    Sarjana             1    45   \n",
       "1  5772         300000          Male    Sarjana             1    40   \n",
       "2  5773          20000        Female     Master             2    22   \n",
       "3  5774         270000        Female    Sarjana             2    26   \n",
       "4  5775          20000        Female        SMA             2    49   \n",
       "\n",
       "   Waktu_bulan_1  Waktu_bulan_2  Waktu_bulan_3  Waktu_bulan_4   ...    \\\n",
       "0              2              2             -2             -2   ...     \n",
       "1             -2             -2             -2             -2   ...     \n",
       "2             -2             -2             -2             -2   ...     \n",
       "3              0              0              0              0   ...     \n",
       "4              0              0              0              0   ...     \n",
       "\n",
       "   Tagihan_bulan_4  Tagihan_bulan_5  Tagihan_bulan_6  Bayar_bulan_1  \\\n",
       "0                0                0                0              0   \n",
       "1             2208             2475             7580           4347   \n",
       "2              304                0              302              0   \n",
       "3            14391            15255            16273           1300   \n",
       "4            19334            19373            19460           1337   \n",
       "\n",
       "   Bayar_bulan_2  Bayar_bulan_3  Bayar_bulan_4  Bayar_bulan_5  Bayar_bulan_6  \\\n",
       "0              0              0              0              0              0   \n",
       "1              0           2208           2475           7580              0   \n",
       "2            913            304              0            302           7676   \n",
       "3           1533           1391           1255           1273           1000   \n",
       "4           2000            666            714            810            600   \n",
       "\n",
       "   Status  \n",
       "0       0  \n",
       "1       0  \n",
       "2       0  \n",
       "3       0  \n",
       "4       0  \n",
       "\n",
       "[5 rows x 25 columns]"
      ]
     },
     "execution_count": 17,
     "metadata": {},
     "output_type": "execute_result"
    }
   ],
   "source": [
    "df.head()"
   ]
  },
  {
   "cell_type": "code",
   "execution_count": 18,
   "metadata": {
    "collapsed": false
   },
   "outputs": [
    {
     "data": {
      "text/plain": [
       "array(['Sarjana', 'Master', 'SMA', 'Lainnya'], dtype=object)"
      ]
     },
     "execution_count": 18,
     "metadata": {},
     "output_type": "execute_result"
    }
   ],
   "source": [
    "df['Pendidikan'].unique()"
   ]
  },
  {
   "cell_type": "markdown",
   "metadata": {},
   "source": [
    "Ubah Status Nikah 1=Sudah Menikah 2=Belum Nikah 3=Lainnya"
   ]
  },
  {
   "cell_type": "code",
   "execution_count": 19,
   "metadata": {
    "collapsed": false
   },
   "outputs": [
    {
     "data": {
      "text/plain": [
       "array([1, 2, 3, 0], dtype=int64)"
      ]
     },
     "execution_count": 19,
     "metadata": {},
     "output_type": "execute_result"
    }
   ],
   "source": [
    "df['Status_Nikah'].unique()"
   ]
  },
  {
   "cell_type": "code",
   "execution_count": 20,
   "metadata": {
    "collapsed": true
   },
   "outputs": [],
   "source": [
    "def status_nikah(x):\n",
    "    if x==1:\n",
    "        return 'Menikah'\n",
    "    elif x==2:\n",
    "        return 'Belum'\n",
    "    else:\n",
    "        return 'Lainnya'\n",
    "df['Status_Nikah']=df['Status_Nikah'].apply(status_nikah)"
   ]
  },
  {
   "cell_type": "code",
   "execution_count": 21,
   "metadata": {
    "collapsed": false
   },
   "outputs": [
    {
     "data": {
      "text/html": [
       "<div>\n",
       "<table border=\"1\" class=\"dataframe\">\n",
       "  <thead>\n",
       "    <tr style=\"text-align: right;\">\n",
       "      <th></th>\n",
       "      <th>ID</th>\n",
       "      <th>Jumlah_kredit</th>\n",
       "      <th>Jenis_kelamin</th>\n",
       "      <th>Pendidikan</th>\n",
       "      <th>Status_Nikah</th>\n",
       "      <th>Umur</th>\n",
       "      <th>Waktu_bulan_1</th>\n",
       "      <th>Waktu_bulan_2</th>\n",
       "      <th>Waktu_bulan_3</th>\n",
       "      <th>Waktu_bulan_4</th>\n",
       "      <th>...</th>\n",
       "      <th>Tagihan_bulan_4</th>\n",
       "      <th>Tagihan_bulan_5</th>\n",
       "      <th>Tagihan_bulan_6</th>\n",
       "      <th>Bayar_bulan_1</th>\n",
       "      <th>Bayar_bulan_2</th>\n",
       "      <th>Bayar_bulan_3</th>\n",
       "      <th>Bayar_bulan_4</th>\n",
       "      <th>Bayar_bulan_5</th>\n",
       "      <th>Bayar_bulan_6</th>\n",
       "      <th>Status</th>\n",
       "    </tr>\n",
       "  </thead>\n",
       "  <tbody>\n",
       "    <tr>\n",
       "      <th>0</th>\n",
       "      <td>5770</td>\n",
       "      <td>360000</td>\n",
       "      <td>Male</td>\n",
       "      <td>Sarjana</td>\n",
       "      <td>Menikah</td>\n",
       "      <td>45</td>\n",
       "      <td>2</td>\n",
       "      <td>2</td>\n",
       "      <td>-2</td>\n",
       "      <td>-2</td>\n",
       "      <td>...</td>\n",
       "      <td>0</td>\n",
       "      <td>0</td>\n",
       "      <td>0</td>\n",
       "      <td>0</td>\n",
       "      <td>0</td>\n",
       "      <td>0</td>\n",
       "      <td>0</td>\n",
       "      <td>0</td>\n",
       "      <td>0</td>\n",
       "      <td>0</td>\n",
       "    </tr>\n",
       "    <tr>\n",
       "      <th>1</th>\n",
       "      <td>5772</td>\n",
       "      <td>300000</td>\n",
       "      <td>Male</td>\n",
       "      <td>Sarjana</td>\n",
       "      <td>Menikah</td>\n",
       "      <td>40</td>\n",
       "      <td>-2</td>\n",
       "      <td>-2</td>\n",
       "      <td>-2</td>\n",
       "      <td>-2</td>\n",
       "      <td>...</td>\n",
       "      <td>2208</td>\n",
       "      <td>2475</td>\n",
       "      <td>7580</td>\n",
       "      <td>4347</td>\n",
       "      <td>0</td>\n",
       "      <td>2208</td>\n",
       "      <td>2475</td>\n",
       "      <td>7580</td>\n",
       "      <td>0</td>\n",
       "      <td>0</td>\n",
       "    </tr>\n",
       "    <tr>\n",
       "      <th>2</th>\n",
       "      <td>5773</td>\n",
       "      <td>20000</td>\n",
       "      <td>Female</td>\n",
       "      <td>Master</td>\n",
       "      <td>Belum</td>\n",
       "      <td>22</td>\n",
       "      <td>-2</td>\n",
       "      <td>-2</td>\n",
       "      <td>-2</td>\n",
       "      <td>-2</td>\n",
       "      <td>...</td>\n",
       "      <td>304</td>\n",
       "      <td>0</td>\n",
       "      <td>302</td>\n",
       "      <td>0</td>\n",
       "      <td>913</td>\n",
       "      <td>304</td>\n",
       "      <td>0</td>\n",
       "      <td>302</td>\n",
       "      <td>7676</td>\n",
       "      <td>0</td>\n",
       "    </tr>\n",
       "    <tr>\n",
       "      <th>3</th>\n",
       "      <td>5774</td>\n",
       "      <td>270000</td>\n",
       "      <td>Female</td>\n",
       "      <td>Sarjana</td>\n",
       "      <td>Belum</td>\n",
       "      <td>26</td>\n",
       "      <td>0</td>\n",
       "      <td>0</td>\n",
       "      <td>0</td>\n",
       "      <td>0</td>\n",
       "      <td>...</td>\n",
       "      <td>14391</td>\n",
       "      <td>15255</td>\n",
       "      <td>16273</td>\n",
       "      <td>1300</td>\n",
       "      <td>1533</td>\n",
       "      <td>1391</td>\n",
       "      <td>1255</td>\n",
       "      <td>1273</td>\n",
       "      <td>1000</td>\n",
       "      <td>0</td>\n",
       "    </tr>\n",
       "    <tr>\n",
       "      <th>4</th>\n",
       "      <td>5775</td>\n",
       "      <td>20000</td>\n",
       "      <td>Female</td>\n",
       "      <td>SMA</td>\n",
       "      <td>Belum</td>\n",
       "      <td>49</td>\n",
       "      <td>0</td>\n",
       "      <td>0</td>\n",
       "      <td>0</td>\n",
       "      <td>0</td>\n",
       "      <td>...</td>\n",
       "      <td>19334</td>\n",
       "      <td>19373</td>\n",
       "      <td>19460</td>\n",
       "      <td>1337</td>\n",
       "      <td>2000</td>\n",
       "      <td>666</td>\n",
       "      <td>714</td>\n",
       "      <td>810</td>\n",
       "      <td>600</td>\n",
       "      <td>0</td>\n",
       "    </tr>\n",
       "  </tbody>\n",
       "</table>\n",
       "<p>5 rows × 25 columns</p>\n",
       "</div>"
      ],
      "text/plain": [
       "     ID  Jumlah_kredit Jenis_kelamin Pendidikan Status_Nikah  Umur  \\\n",
       "0  5770         360000          Male    Sarjana      Menikah    45   \n",
       "1  5772         300000          Male    Sarjana      Menikah    40   \n",
       "2  5773          20000        Female     Master        Belum    22   \n",
       "3  5774         270000        Female    Sarjana        Belum    26   \n",
       "4  5775          20000        Female        SMA        Belum    49   \n",
       "\n",
       "   Waktu_bulan_1  Waktu_bulan_2  Waktu_bulan_3  Waktu_bulan_4   ...    \\\n",
       "0              2              2             -2             -2   ...     \n",
       "1             -2             -2             -2             -2   ...     \n",
       "2             -2             -2             -2             -2   ...     \n",
       "3              0              0              0              0   ...     \n",
       "4              0              0              0              0   ...     \n",
       "\n",
       "   Tagihan_bulan_4  Tagihan_bulan_5  Tagihan_bulan_6  Bayar_bulan_1  \\\n",
       "0                0                0                0              0   \n",
       "1             2208             2475             7580           4347   \n",
       "2              304                0              302              0   \n",
       "3            14391            15255            16273           1300   \n",
       "4            19334            19373            19460           1337   \n",
       "\n",
       "   Bayar_bulan_2  Bayar_bulan_3  Bayar_bulan_4  Bayar_bulan_5  Bayar_bulan_6  \\\n",
       "0              0              0              0              0              0   \n",
       "1              0           2208           2475           7580              0   \n",
       "2            913            304              0            302           7676   \n",
       "3           1533           1391           1255           1273           1000   \n",
       "4           2000            666            714            810            600   \n",
       "\n",
       "   Status  \n",
       "0       0  \n",
       "1       0  \n",
       "2       0  \n",
       "3       0  \n",
       "4       0  \n",
       "\n",
       "[5 rows x 25 columns]"
      ]
     },
     "execution_count": 21,
     "metadata": {},
     "output_type": "execute_result"
    }
   ],
   "source": [
    "df.head()"
   ]
  },
  {
   "cell_type": "code",
   "execution_count": 22,
   "metadata": {
    "collapsed": false
   },
   "outputs": [
    {
     "name": "stdout",
     "output_type": "stream",
     "text": [
      "Waktu_bulan_1\n",
      "[ 2 -2  0 -1  1  4  3  5  6  8  7]\n",
      "2->>>1205\n",
      "-2->>>2157\n",
      "0->>>11067\n",
      "-1->>>4021\n",
      "1->>>2324\n",
      "4->>>36\n",
      "3->>>158\n",
      "5->>>18\n",
      "6->>>7\n",
      "8->>>4\n",
      "7->>>3\n",
      "Waktu_bulan_2\n",
      "[ 2 -2  0 -1  3  4  1  5  8  7  6]\n",
      "2->>>2084\n",
      "-2->>>2765\n",
      "0->>>11526\n",
      "-1->>>4339\n",
      "3->>>176\n",
      "4->>>67\n",
      "1->>>22\n",
      "5->>>11\n",
      "8->>>1\n",
      "7->>>5\n",
      "6->>>4\n",
      "Waktu_bulan_3\n",
      "[-2  0 -1  2  5  7  3  4  1  6  8]\n",
      "-2->>>3008\n",
      "0->>>11458\n",
      "-1->>>4234\n",
      "2->>>2098\n",
      "5->>>9\n",
      "7->>>4\n",
      "3->>>145\n",
      "4->>>35\n",
      "1->>>1\n",
      "6->>>6\n",
      "8->>>2\n",
      "Waktu_bulan_4\n",
      "[-2  0 -1  2  4  3  7  1  5  6  8]\n",
      "-2->>>3170\n",
      "0->>>11759\n",
      "-1->>>4100\n",
      "2->>>1813\n",
      "4->>>28\n",
      "3->>>86\n",
      "7->>>25\n",
      "1->>>1\n",
      "5->>>15\n",
      "6->>>2\n",
      "8->>>1\n",
      "Waktu_bulan_5\n",
      "[-2  0 -1  2  3  7  4  5  6]\n",
      "-2->>>3313\n",
      "0->>>12207\n",
      "-1->>>3956\n",
      "2->>>1370\n",
      "3->>>80\n",
      "7->>>25\n",
      "4->>>36\n",
      "5->>>11\n",
      "6->>>2\n",
      "Waktu_bulan_6\n",
      "[-2 -1  0  2  7  3  4  6  5]\n",
      "-2->>>3569\n",
      "-1->>>3985\n",
      "0->>>11830\n",
      "2->>>1477\n",
      "7->>>20\n",
      "3->>>81\n",
      "4->>>25\n",
      "6->>>6\n",
      "5->>>7\n"
     ]
    }
   ],
   "source": [
    "for i in range(1,7):\n",
    "    st='Waktu_bulan_'+str(i)\n",
    "    print(st)\n",
    "    arr=df[st].unique()\n",
    "    print(arr)\n",
    "    for j in arr:\n",
    "        print(str(j)+\"->>>\"+str(len(df[df[st]==j])))\n",
    "    "
   ]
  },
  {
   "cell_type": "markdown",
   "metadata": {},
   "source": [
    "Visualisasi Status Kartu Kredit"
   ]
  },
  {
   "cell_type": "code",
   "execution_count": 23,
   "metadata": {
    "collapsed": false
   },
   "outputs": [
    {
     "data": {
      "text/html": [
       "<div>\n",
       "<table border=\"1\" class=\"dataframe\">\n",
       "  <thead>\n",
       "    <tr style=\"text-align: right;\">\n",
       "      <th></th>\n",
       "      <th>ID</th>\n",
       "      <th>Jumlah_kredit</th>\n",
       "      <th>Umur</th>\n",
       "      <th>Waktu_bulan_1</th>\n",
       "      <th>Waktu_bulan_2</th>\n",
       "      <th>Waktu_bulan_3</th>\n",
       "      <th>Waktu_bulan_4</th>\n",
       "      <th>Waktu_bulan_5</th>\n",
       "      <th>Waktu_bulan_6</th>\n",
       "      <th>Tagihan_bulan_1</th>\n",
       "      <th>...</th>\n",
       "      <th>Tagihan_bulan_3</th>\n",
       "      <th>Tagihan_bulan_4</th>\n",
       "      <th>Tagihan_bulan_5</th>\n",
       "      <th>Tagihan_bulan_6</th>\n",
       "      <th>Bayar_bulan_1</th>\n",
       "      <th>Bayar_bulan_2</th>\n",
       "      <th>Bayar_bulan_3</th>\n",
       "      <th>Bayar_bulan_4</th>\n",
       "      <th>Bayar_bulan_5</th>\n",
       "      <th>Bayar_bulan_6</th>\n",
       "    </tr>\n",
       "    <tr>\n",
       "      <th>Status</th>\n",
       "      <th></th>\n",
       "      <th></th>\n",
       "      <th></th>\n",
       "      <th></th>\n",
       "      <th></th>\n",
       "      <th></th>\n",
       "      <th></th>\n",
       "      <th></th>\n",
       "      <th></th>\n",
       "      <th></th>\n",
       "      <th></th>\n",
       "      <th></th>\n",
       "      <th></th>\n",
       "      <th></th>\n",
       "      <th></th>\n",
       "      <th></th>\n",
       "      <th></th>\n",
       "      <th></th>\n",
       "      <th></th>\n",
       "      <th></th>\n",
       "      <th></th>\n",
       "    </tr>\n",
       "  </thead>\n",
       "  <tbody>\n",
       "    <tr>\n",
       "      <th>0</th>\n",
       "      <td>17969.491306</td>\n",
       "      <td>179313.295165</td>\n",
       "      <td>35.437182</td>\n",
       "      <td>-0.219784</td>\n",
       "      <td>-0.303859</td>\n",
       "      <td>-0.321353</td>\n",
       "      <td>-0.356181</td>\n",
       "      <td>-0.394402</td>\n",
       "      <td>-0.411684</td>\n",
       "      <td>52323.820293</td>\n",
       "      <td>...</td>\n",
       "      <td>47838.317536</td>\n",
       "      <td>44244.862012</td>\n",
       "      <td>40748.052216</td>\n",
       "      <td>39242.253711</td>\n",
       "      <td>6309.077131</td>\n",
       "      <td>6631.677163</td>\n",
       "      <td>5959.848547</td>\n",
       "      <td>5330.961037</td>\n",
       "      <td>5285.692642</td>\n",
       "      <td>5718.978584</td>\n",
       "    </tr>\n",
       "    <tr>\n",
       "      <th>1</th>\n",
       "      <td>24908.367041</td>\n",
       "      <td>131886.704120</td>\n",
       "      <td>36.451779</td>\n",
       "      <td>0.631086</td>\n",
       "      <td>0.454588</td>\n",
       "      <td>0.331929</td>\n",
       "      <td>0.255618</td>\n",
       "      <td>0.104869</td>\n",
       "      <td>0.070693</td>\n",
       "      <td>52410.947097</td>\n",
       "      <td>...</td>\n",
       "      <td>48781.134363</td>\n",
       "      <td>45920.777154</td>\n",
       "      <td>41160.529026</td>\n",
       "      <td>39664.773408</td>\n",
       "      <td>3651.024813</td>\n",
       "      <td>3339.665730</td>\n",
       "      <td>3822.033708</td>\n",
       "      <td>3279.742978</td>\n",
       "      <td>2830.041667</td>\n",
       "      <td>3601.409644</td>\n",
       "    </tr>\n",
       "  </tbody>\n",
       "</table>\n",
       "<p>2 rows × 21 columns</p>\n",
       "</div>"
      ],
      "text/plain": [
       "                  ID  Jumlah_kredit       Umur  Waktu_bulan_1  Waktu_bulan_2  \\\n",
       "Status                                                                         \n",
       "0       17969.491306  179313.295165  35.437182      -0.219784      -0.303859   \n",
       "1       24908.367041  131886.704120  36.451779       0.631086       0.454588   \n",
       "\n",
       "        Waktu_bulan_3  Waktu_bulan_4  Waktu_bulan_5  Waktu_bulan_6  \\\n",
       "Status                                                               \n",
       "0           -0.321353      -0.356181      -0.394402      -0.411684   \n",
       "1            0.331929       0.255618       0.104869       0.070693   \n",
       "\n",
       "        Tagihan_bulan_1      ...        Tagihan_bulan_3  Tagihan_bulan_4  \\\n",
       "Status                       ...                                           \n",
       "0          52323.820293      ...           47838.317536     44244.862012   \n",
       "1          52410.947097      ...           48781.134363     45920.777154   \n",
       "\n",
       "        Tagihan_bulan_5  Tagihan_bulan_6  Bayar_bulan_1  Bayar_bulan_2  \\\n",
       "Status                                                                   \n",
       "0          40748.052216     39242.253711    6309.077131    6631.677163   \n",
       "1          41160.529026     39664.773408    3651.024813    3339.665730   \n",
       "\n",
       "        Bayar_bulan_3  Bayar_bulan_4  Bayar_bulan_5  Bayar_bulan_6  \n",
       "Status                                                              \n",
       "0         5959.848547    5330.961037    5285.692642    5718.978584  \n",
       "1         3822.033708    3279.742978    2830.041667    3601.409644  \n",
       "\n",
       "[2 rows x 21 columns]"
      ]
     },
     "execution_count": 23,
     "metadata": {},
     "output_type": "execute_result"
    }
   ],
   "source": [
    "df.groupby('Status').mean()"
   ]
  },
  {
   "cell_type": "code",
   "execution_count": 24,
   "metadata": {
    "collapsed": false
   },
   "outputs": [
    {
     "data": {
      "text/plain": [
       "<matplotlib.axes._subplots.AxesSubplot at 0x9679be0>"
      ]
     },
     "execution_count": 24,
     "metadata": {},
     "output_type": "execute_result"
    }
   ],
   "source": [
    "df['Status'].hist()"
   ]
  },
  {
   "cell_type": "code",
   "execution_count": null,
   "metadata": {
    "collapsed": false
   },
   "outputs": [],
   "source": []
  },
  {
   "cell_type": "markdown",
   "metadata": {},
   "source": [
    "Korelasi antara Pendidikan dan Status"
   ]
  },
  {
   "cell_type": "code",
   "execution_count": 25,
   "metadata": {
    "collapsed": false
   },
   "outputs": [
    {
     "data": {
      "image/png": "[encoded data removed]",
      "text/plain": [
       "<matplotlib.figure.Figure at 0x967ca90>"
      ]
     },
     "metadata": {},
     "output_type": "display_data"
    },
    {
     "data": {
      "image/png": "[encoded data removed]",
      "text/plain": [
       "<matplotlib.figure.Figure at 0x9753828>"
      ]
     },
     "metadata": {},
     "output_type": "display_data"
    }
   ],
   "source": [
    "pendidikan_v_status=pd.crosstab(df.Pendidikan,df.Status)\n",
    "pendidikan_v_status.plot(kind='bar')\n",
    "plt.show()"
   ]
  },
  {
   "cell_type": "markdown",
   "metadata": {},
   "source": [
    "Korelasi antara Status Nikah dan Status"
   ]
  },
  {
   "cell_type": "code",
   "execution_count": 26,
   "metadata": {
    "collapsed": false
   },
   "outputs": [
    {
     "data": {
      "image/png": "[encoded data removed]",
      "text/plain": [
       "<matplotlib.figure.Figure at 0x974bb70>"
      ]
     },
     "metadata": {},
     "output_type": "display_data"
    }
   ],
   "source": [
    "nikah_v_status=pd.crosstab(df['Status_Nikah'],df.Status)\n",
    "nikah_v_status.plot(kind='bar')\n",
    "plt.show()"
   ]
  },
  {
   "cell_type": "markdown",
   "metadata": {},
   "source": [
    "Korelasi Jenis Kelamin dan Status"
   ]
  },
  {
   "cell_type": "code",
   "execution_count": 27,
   "metadata": {
    "collapsed": false
   },
   "outputs": [
    {
     "data": {
      "image/png": "[encoded data removed]",
      "text/plain": [
       "<matplotlib.figure.Figure at 0x99f65c0>"
      ]
     },
     "metadata": {},
     "output_type": "display_data"
    }
   ],
   "source": [
    "kelamin_v_status=pd.crosstab(df['Jenis_kelamin'],df.Status)\n",
    "kelamin_v_status.plot(kind='bar')\n",
    "plt.show()"
   ]
  },
  {
   "cell_type": "markdown",
   "metadata": {},
   "source": [
    "Korelasi antara umur dan Status"
   ]
  },
  {
   "cell_type": "code",
   "execution_count": 28,
   "metadata": {
    "collapsed": false
   },
   "outputs": [
    {
     "data": {
      "image/png": "[encoded data removed]",
      "text/plain": [
       "<matplotlib.figure.Figure at 0xa622780>"
      ]
     },
     "metadata": {},
     "output_type": "display_data"
    }
   ],
   "source": [
    "umur_v_status=pd.crosstab(df['Umur'],df.Status)\n",
    "umur_v_status.plot(kind='bar')\n",
    "plt.show()"
   ]
  },
  {
   "cell_type": "code",
   "execution_count": 29,
   "metadata": {
    "collapsed": false
   },
   "outputs": [],
   "source": [
    "def totaltagihan(series):\n",
    "    sum=0\n",
    "    for i in range(1,7):\n",
    "        st='Tagihan_bulan_'+str(i)\n",
    "        sum += series[st]\n",
    "    return sum\n",
    "df['Total_tagihan']=df.apply(totaltagihan,axis='columns')"
   ]
  },
  {
   "cell_type": "code",
   "execution_count": 30,
   "metadata": {
    "collapsed": false
   },
   "outputs": [
    {
     "data": {
      "text/html": [
       "<div>\n",
       "<table border=\"1\" class=\"dataframe\">\n",
       "  <thead>\n",
       "    <tr style=\"text-align: right;\">\n",
       "      <th></th>\n",
       "      <th>ID</th>\n",
       "      <th>Jumlah_kredit</th>\n",
       "      <th>Jenis_kelamin</th>\n",
       "      <th>Pendidikan</th>\n",
       "      <th>Status_Nikah</th>\n",
       "      <th>Umur</th>\n",
       "      <th>Waktu_bulan_1</th>\n",
       "      <th>Waktu_bulan_2</th>\n",
       "      <th>Waktu_bulan_3</th>\n",
       "      <th>Waktu_bulan_4</th>\n",
       "      <th>...</th>\n",
       "      <th>Tagihan_bulan_5</th>\n",
       "      <th>Tagihan_bulan_6</th>\n",
       "      <th>Bayar_bulan_1</th>\n",
       "      <th>Bayar_bulan_2</th>\n",
       "      <th>Bayar_bulan_3</th>\n",
       "      <th>Bayar_bulan_4</th>\n",
       "      <th>Bayar_bulan_5</th>\n",
       "      <th>Bayar_bulan_6</th>\n",
       "      <th>Status</th>\n",
       "      <th>Total_tagihan</th>\n",
       "    </tr>\n",
       "  </thead>\n",
       "  <tbody>\n",
       "    <tr>\n",
       "      <th>0</th>\n",
       "      <td>5770</td>\n",
       "      <td>360000</td>\n",
       "      <td>Male</td>\n",
       "      <td>Sarjana</td>\n",
       "      <td>Menikah</td>\n",
       "      <td>45</td>\n",
       "      <td>2</td>\n",
       "      <td>2</td>\n",
       "      <td>-2</td>\n",
       "      <td>-2</td>\n",
       "      <td>...</td>\n",
       "      <td>0</td>\n",
       "      <td>0</td>\n",
       "      <td>0</td>\n",
       "      <td>0</td>\n",
       "      <td>0</td>\n",
       "      <td>0</td>\n",
       "      <td>0</td>\n",
       "      <td>0</td>\n",
       "      <td>0</td>\n",
       "      <td>2500</td>\n",
       "    </tr>\n",
       "    <tr>\n",
       "      <th>1</th>\n",
       "      <td>5772</td>\n",
       "      <td>300000</td>\n",
       "      <td>Male</td>\n",
       "      <td>Sarjana</td>\n",
       "      <td>Menikah</td>\n",
       "      <td>40</td>\n",
       "      <td>-2</td>\n",
       "      <td>-2</td>\n",
       "      <td>-2</td>\n",
       "      <td>-2</td>\n",
       "      <td>...</td>\n",
       "      <td>2475</td>\n",
       "      <td>7580</td>\n",
       "      <td>4347</td>\n",
       "      <td>0</td>\n",
       "      <td>2208</td>\n",
       "      <td>2475</td>\n",
       "      <td>7580</td>\n",
       "      <td>0</td>\n",
       "      <td>0</td>\n",
       "      <td>32486</td>\n",
       "    </tr>\n",
       "    <tr>\n",
       "      <th>2</th>\n",
       "      <td>5773</td>\n",
       "      <td>20000</td>\n",
       "      <td>Female</td>\n",
       "      <td>Master</td>\n",
       "      <td>Belum</td>\n",
       "      <td>22</td>\n",
       "      <td>-2</td>\n",
       "      <td>-2</td>\n",
       "      <td>-2</td>\n",
       "      <td>-2</td>\n",
       "      <td>...</td>\n",
       "      <td>0</td>\n",
       "      <td>302</td>\n",
       "      <td>0</td>\n",
       "      <td>913</td>\n",
       "      <td>304</td>\n",
       "      <td>0</td>\n",
       "      <td>302</td>\n",
       "      <td>7676</td>\n",
       "      <td>0</td>\n",
       "      <td>1492</td>\n",
       "    </tr>\n",
       "    <tr>\n",
       "      <th>3</th>\n",
       "      <td>5774</td>\n",
       "      <td>270000</td>\n",
       "      <td>Female</td>\n",
       "      <td>Sarjana</td>\n",
       "      <td>Belum</td>\n",
       "      <td>26</td>\n",
       "      <td>0</td>\n",
       "      <td>0</td>\n",
       "      <td>0</td>\n",
       "      <td>0</td>\n",
       "      <td>...</td>\n",
       "      <td>15255</td>\n",
       "      <td>16273</td>\n",
       "      <td>1300</td>\n",
       "      <td>1533</td>\n",
       "      <td>1391</td>\n",
       "      <td>1255</td>\n",
       "      <td>1273</td>\n",
       "      <td>1000</td>\n",
       "      <td>0</td>\n",
       "      <td>101614</td>\n",
       "    </tr>\n",
       "    <tr>\n",
       "      <th>4</th>\n",
       "      <td>5775</td>\n",
       "      <td>20000</td>\n",
       "      <td>Female</td>\n",
       "      <td>SMA</td>\n",
       "      <td>Belum</td>\n",
       "      <td>49</td>\n",
       "      <td>0</td>\n",
       "      <td>0</td>\n",
       "      <td>0</td>\n",
       "      <td>0</td>\n",
       "      <td>...</td>\n",
       "      <td>19373</td>\n",
       "      <td>19460</td>\n",
       "      <td>1337</td>\n",
       "      <td>2000</td>\n",
       "      <td>666</td>\n",
       "      <td>714</td>\n",
       "      <td>810</td>\n",
       "      <td>600</td>\n",
       "      <td>0</td>\n",
       "      <td>116715</td>\n",
       "    </tr>\n",
       "  </tbody>\n",
       "</table>\n",
       "<p>5 rows × 26 columns</p>\n",
       "</div>"
      ],
      "text/plain": [
       "     ID  Jumlah_kredit Jenis_kelamin Pendidikan Status_Nikah  Umur  \\\n",
       "0  5770         360000          Male    Sarjana      Menikah    45   \n",
       "1  5772         300000          Male    Sarjana      Menikah    40   \n",
       "2  5773          20000        Female     Master        Belum    22   \n",
       "3  5774         270000        Female    Sarjana        Belum    26   \n",
       "4  5775          20000        Female        SMA        Belum    49   \n",
       "\n",
       "   Waktu_bulan_1  Waktu_bulan_2  Waktu_bulan_3  Waktu_bulan_4      ...        \\\n",
       "0              2              2             -2             -2      ...         \n",
       "1             -2             -2             -2             -2      ...         \n",
       "2             -2             -2             -2             -2      ...         \n",
       "3              0              0              0              0      ...         \n",
       "4              0              0              0              0      ...         \n",
       "\n",
       "   Tagihan_bulan_5  Tagihan_bulan_6  Bayar_bulan_1  Bayar_bulan_2  \\\n",
       "0                0                0              0              0   \n",
       "1             2475             7580           4347              0   \n",
       "2                0              302              0            913   \n",
       "3            15255            16273           1300           1533   \n",
       "4            19373            19460           1337           2000   \n",
       "\n",
       "   Bayar_bulan_3  Bayar_bulan_4  Bayar_bulan_5  Bayar_bulan_6  Status  \\\n",
       "0              0              0              0              0       0   \n",
       "1           2208           2475           7580              0       0   \n",
       "2            304              0            302           7676       0   \n",
       "3           1391           1255           1273           1000       0   \n",
       "4            666            714            810            600       0   \n",
       "\n",
       "   Total_tagihan  \n",
       "0           2500  \n",
       "1          32486  \n",
       "2           1492  \n",
       "3         101614  \n",
       "4         116715  \n",
       "\n",
       "[5 rows x 26 columns]"
      ]
     },
     "execution_count": 30,
     "metadata": {},
     "output_type": "execute_result"
    }
   ],
   "source": [
    "df.head()"
   ]
  },
  {
   "cell_type": "code",
   "execution_count": 31,
   "metadata": {
    "collapsed": false
   },
   "outputs": [
    {
     "data": {
      "text/html": [
       "<div>\n",
       "<table border=\"1\" class=\"dataframe\">\n",
       "  <thead>\n",
       "    <tr style=\"text-align: right;\">\n",
       "      <th></th>\n",
       "      <th>ID</th>\n",
       "      <th>Jumlah_kredit</th>\n",
       "      <th>Jenis_kelamin</th>\n",
       "      <th>Pendidikan</th>\n",
       "      <th>Status_Nikah</th>\n",
       "      <th>Umur</th>\n",
       "      <th>Waktu_bulan_1</th>\n",
       "      <th>Waktu_bulan_2</th>\n",
       "      <th>Waktu_bulan_3</th>\n",
       "      <th>Waktu_bulan_4</th>\n",
       "      <th>...</th>\n",
       "      <th>Tagihan_bulan_6</th>\n",
       "      <th>Bayar_bulan_1</th>\n",
       "      <th>Bayar_bulan_2</th>\n",
       "      <th>Bayar_bulan_3</th>\n",
       "      <th>Bayar_bulan_4</th>\n",
       "      <th>Bayar_bulan_5</th>\n",
       "      <th>Bayar_bulan_6</th>\n",
       "      <th>Status</th>\n",
       "      <th>Total_tagihan</th>\n",
       "      <th>Selisih_kredit</th>\n",
       "    </tr>\n",
       "  </thead>\n",
       "  <tbody>\n",
       "    <tr>\n",
       "      <th>0</th>\n",
       "      <td>5770</td>\n",
       "      <td>360000</td>\n",
       "      <td>Male</td>\n",
       "      <td>Sarjana</td>\n",
       "      <td>Menikah</td>\n",
       "      <td>45</td>\n",
       "      <td>2</td>\n",
       "      <td>2</td>\n",
       "      <td>-2</td>\n",
       "      <td>-2</td>\n",
       "      <td>...</td>\n",
       "      <td>0</td>\n",
       "      <td>0</td>\n",
       "      <td>0</td>\n",
       "      <td>0</td>\n",
       "      <td>0</td>\n",
       "      <td>0</td>\n",
       "      <td>0</td>\n",
       "      <td>0</td>\n",
       "      <td>2500</td>\n",
       "      <td>357500</td>\n",
       "    </tr>\n",
       "    <tr>\n",
       "      <th>1</th>\n",
       "      <td>5772</td>\n",
       "      <td>300000</td>\n",
       "      <td>Male</td>\n",
       "      <td>Sarjana</td>\n",
       "      <td>Menikah</td>\n",
       "      <td>40</td>\n",
       "      <td>-2</td>\n",
       "      <td>-2</td>\n",
       "      <td>-2</td>\n",
       "      <td>-2</td>\n",
       "      <td>...</td>\n",
       "      <td>7580</td>\n",
       "      <td>4347</td>\n",
       "      <td>0</td>\n",
       "      <td>2208</td>\n",
       "      <td>2475</td>\n",
       "      <td>7580</td>\n",
       "      <td>0</td>\n",
       "      <td>0</td>\n",
       "      <td>32486</td>\n",
       "      <td>267514</td>\n",
       "    </tr>\n",
       "    <tr>\n",
       "      <th>2</th>\n",
       "      <td>5773</td>\n",
       "      <td>20000</td>\n",
       "      <td>Female</td>\n",
       "      <td>Master</td>\n",
       "      <td>Belum</td>\n",
       "      <td>22</td>\n",
       "      <td>-2</td>\n",
       "      <td>-2</td>\n",
       "      <td>-2</td>\n",
       "      <td>-2</td>\n",
       "      <td>...</td>\n",
       "      <td>302</td>\n",
       "      <td>0</td>\n",
       "      <td>913</td>\n",
       "      <td>304</td>\n",
       "      <td>0</td>\n",
       "      <td>302</td>\n",
       "      <td>7676</td>\n",
       "      <td>0</td>\n",
       "      <td>1492</td>\n",
       "      <td>18508</td>\n",
       "    </tr>\n",
       "    <tr>\n",
       "      <th>3</th>\n",
       "      <td>5774</td>\n",
       "      <td>270000</td>\n",
       "      <td>Female</td>\n",
       "      <td>Sarjana</td>\n",
       "      <td>Belum</td>\n",
       "      <td>26</td>\n",
       "      <td>0</td>\n",
       "      <td>0</td>\n",
       "      <td>0</td>\n",
       "      <td>0</td>\n",
       "      <td>...</td>\n",
       "      <td>16273</td>\n",
       "      <td>1300</td>\n",
       "      <td>1533</td>\n",
       "      <td>1391</td>\n",
       "      <td>1255</td>\n",
       "      <td>1273</td>\n",
       "      <td>1000</td>\n",
       "      <td>0</td>\n",
       "      <td>101614</td>\n",
       "      <td>168386</td>\n",
       "    </tr>\n",
       "    <tr>\n",
       "      <th>4</th>\n",
       "      <td>5775</td>\n",
       "      <td>20000</td>\n",
       "      <td>Female</td>\n",
       "      <td>SMA</td>\n",
       "      <td>Belum</td>\n",
       "      <td>49</td>\n",
       "      <td>0</td>\n",
       "      <td>0</td>\n",
       "      <td>0</td>\n",
       "      <td>0</td>\n",
       "      <td>...</td>\n",
       "      <td>19460</td>\n",
       "      <td>1337</td>\n",
       "      <td>2000</td>\n",
       "      <td>666</td>\n",
       "      <td>714</td>\n",
       "      <td>810</td>\n",
       "      <td>600</td>\n",
       "      <td>0</td>\n",
       "      <td>116715</td>\n",
       "      <td>-96715</td>\n",
       "    </tr>\n",
       "  </tbody>\n",
       "</table>\n",
       "<p>5 rows × 27 columns</p>\n",
       "</div>"
      ],
      "text/plain": [
       "     ID  Jumlah_kredit Jenis_kelamin Pendidikan Status_Nikah  Umur  \\\n",
       "0  5770         360000          Male    Sarjana      Menikah    45   \n",
       "1  5772         300000          Male    Sarjana      Menikah    40   \n",
       "2  5773          20000        Female     Master        Belum    22   \n",
       "3  5774         270000        Female    Sarjana        Belum    26   \n",
       "4  5775          20000        Female        SMA        Belum    49   \n",
       "\n",
       "   Waktu_bulan_1  Waktu_bulan_2  Waktu_bulan_3  Waktu_bulan_4       ...        \\\n",
       "0              2              2             -2             -2       ...         \n",
       "1             -2             -2             -2             -2       ...         \n",
       "2             -2             -2             -2             -2       ...         \n",
       "3              0              0              0              0       ...         \n",
       "4              0              0              0              0       ...         \n",
       "\n",
       "   Tagihan_bulan_6  Bayar_bulan_1  Bayar_bulan_2  Bayar_bulan_3  \\\n",
       "0                0              0              0              0   \n",
       "1             7580           4347              0           2208   \n",
       "2              302              0            913            304   \n",
       "3            16273           1300           1533           1391   \n",
       "4            19460           1337           2000            666   \n",
       "\n",
       "   Bayar_bulan_4  Bayar_bulan_5  Bayar_bulan_6  Status  Total_tagihan  \\\n",
       "0              0              0              0       0           2500   \n",
       "1           2475           7580              0       0          32486   \n",
       "2              0            302           7676       0           1492   \n",
       "3           1255           1273           1000       0         101614   \n",
       "4            714            810            600       0         116715   \n",
       "\n",
       "   Selisih_kredit  \n",
       "0          357500  \n",
       "1          267514  \n",
       "2           18508  \n",
       "3          168386  \n",
       "4          -96715  \n",
       "\n",
       "[5 rows x 27 columns]"
      ]
     },
     "execution_count": 31,
     "metadata": {},
     "output_type": "execute_result"
    }
   ],
   "source": [
    "df['Selisih_kredit']=df['Jumlah_kredit']-df['Total_tagihan']\n",
    "df.head()"
   ]
  },
  {
   "cell_type": "markdown",
   "metadata": {},
   "source": [
    "Korelasi selisih kredit (Jumlah-total tagihan) dengan status"
   ]
  },
  {
   "cell_type": "markdown",
   "metadata": {},
   "source": [
    "Korelasi selisih Kredit dan Status"
   ]
  },
  {
   "cell_type": "code",
   "execution_count": 32,
   "metadata": {
    "collapsed": false
   },
   "outputs": [
    {
     "data": {
      "text/html": [
       "<div>\n",
       "<table border=\"1\" class=\"dataframe\">\n",
       "  <thead>\n",
       "    <tr style=\"text-align: right;\">\n",
       "      <th></th>\n",
       "      <th>ID</th>\n",
       "      <th>Jumlah_kredit</th>\n",
       "      <th>Jenis_kelamin</th>\n",
       "      <th>Pendidikan</th>\n",
       "      <th>Status_Nikah</th>\n",
       "      <th>Umur</th>\n",
       "      <th>Waktu_bulan_1</th>\n",
       "      <th>Waktu_bulan_2</th>\n",
       "      <th>Waktu_bulan_3</th>\n",
       "      <th>Waktu_bulan_4</th>\n",
       "      <th>...</th>\n",
       "      <th>Bayar_bulan_1</th>\n",
       "      <th>Bayar_bulan_2</th>\n",
       "      <th>Bayar_bulan_3</th>\n",
       "      <th>Bayar_bulan_4</th>\n",
       "      <th>Bayar_bulan_5</th>\n",
       "      <th>Bayar_bulan_6</th>\n",
       "      <th>Status</th>\n",
       "      <th>Total_tagihan</th>\n",
       "      <th>Selisih_kredit</th>\n",
       "      <th>Total_bayar</th>\n",
       "    </tr>\n",
       "  </thead>\n",
       "  <tbody>\n",
       "    <tr>\n",
       "      <th>0</th>\n",
       "      <td>5770</td>\n",
       "      <td>360000</td>\n",
       "      <td>Male</td>\n",
       "      <td>Sarjana</td>\n",
       "      <td>Menikah</td>\n",
       "      <td>45</td>\n",
       "      <td>2</td>\n",
       "      <td>2</td>\n",
       "      <td>-2</td>\n",
       "      <td>-2</td>\n",
       "      <td>...</td>\n",
       "      <td>0</td>\n",
       "      <td>0</td>\n",
       "      <td>0</td>\n",
       "      <td>0</td>\n",
       "      <td>0</td>\n",
       "      <td>0</td>\n",
       "      <td>0</td>\n",
       "      <td>2500</td>\n",
       "      <td>357500</td>\n",
       "      <td>0</td>\n",
       "    </tr>\n",
       "    <tr>\n",
       "      <th>1</th>\n",
       "      <td>5772</td>\n",
       "      <td>300000</td>\n",
       "      <td>Male</td>\n",
       "      <td>Sarjana</td>\n",
       "      <td>Menikah</td>\n",
       "      <td>40</td>\n",
       "      <td>-2</td>\n",
       "      <td>-2</td>\n",
       "      <td>-2</td>\n",
       "      <td>-2</td>\n",
       "      <td>...</td>\n",
       "      <td>4347</td>\n",
       "      <td>0</td>\n",
       "      <td>2208</td>\n",
       "      <td>2475</td>\n",
       "      <td>7580</td>\n",
       "      <td>0</td>\n",
       "      <td>0</td>\n",
       "      <td>32486</td>\n",
       "      <td>267514</td>\n",
       "      <td>16610</td>\n",
       "    </tr>\n",
       "    <tr>\n",
       "      <th>2</th>\n",
       "      <td>5773</td>\n",
       "      <td>20000</td>\n",
       "      <td>Female</td>\n",
       "      <td>Master</td>\n",
       "      <td>Belum</td>\n",
       "      <td>22</td>\n",
       "      <td>-2</td>\n",
       "      <td>-2</td>\n",
       "      <td>-2</td>\n",
       "      <td>-2</td>\n",
       "      <td>...</td>\n",
       "      <td>0</td>\n",
       "      <td>913</td>\n",
       "      <td>304</td>\n",
       "      <td>0</td>\n",
       "      <td>302</td>\n",
       "      <td>7676</td>\n",
       "      <td>0</td>\n",
       "      <td>1492</td>\n",
       "      <td>18508</td>\n",
       "      <td>9195</td>\n",
       "    </tr>\n",
       "    <tr>\n",
       "      <th>3</th>\n",
       "      <td>5774</td>\n",
       "      <td>270000</td>\n",
       "      <td>Female</td>\n",
       "      <td>Sarjana</td>\n",
       "      <td>Belum</td>\n",
       "      <td>26</td>\n",
       "      <td>0</td>\n",
       "      <td>0</td>\n",
       "      <td>0</td>\n",
       "      <td>0</td>\n",
       "      <td>...</td>\n",
       "      <td>1300</td>\n",
       "      <td>1533</td>\n",
       "      <td>1391</td>\n",
       "      <td>1255</td>\n",
       "      <td>1273</td>\n",
       "      <td>1000</td>\n",
       "      <td>0</td>\n",
       "      <td>101614</td>\n",
       "      <td>168386</td>\n",
       "      <td>7752</td>\n",
       "    </tr>\n",
       "    <tr>\n",
       "      <th>4</th>\n",
       "      <td>5775</td>\n",
       "      <td>20000</td>\n",
       "      <td>Female</td>\n",
       "      <td>SMA</td>\n",
       "      <td>Belum</td>\n",
       "      <td>49</td>\n",
       "      <td>0</td>\n",
       "      <td>0</td>\n",
       "      <td>0</td>\n",
       "      <td>0</td>\n",
       "      <td>...</td>\n",
       "      <td>1337</td>\n",
       "      <td>2000</td>\n",
       "      <td>666</td>\n",
       "      <td>714</td>\n",
       "      <td>810</td>\n",
       "      <td>600</td>\n",
       "      <td>0</td>\n",
       "      <td>116715</td>\n",
       "      <td>-96715</td>\n",
       "      <td>6127</td>\n",
       "    </tr>\n",
       "  </tbody>\n",
       "</table>\n",
       "<p>5 rows × 28 columns</p>\n",
       "</div>"
      ],
      "text/plain": [
       "     ID  Jumlah_kredit Jenis_kelamin Pendidikan Status_Nikah  Umur  \\\n",
       "0  5770         360000          Male    Sarjana      Menikah    45   \n",
       "1  5772         300000          Male    Sarjana      Menikah    40   \n",
       "2  5773          20000        Female     Master        Belum    22   \n",
       "3  5774         270000        Female    Sarjana        Belum    26   \n",
       "4  5775          20000        Female        SMA        Belum    49   \n",
       "\n",
       "   Waktu_bulan_1  Waktu_bulan_2  Waktu_bulan_3  Waktu_bulan_4     ...       \\\n",
       "0              2              2             -2             -2     ...        \n",
       "1             -2             -2             -2             -2     ...        \n",
       "2             -2             -2             -2             -2     ...        \n",
       "3              0              0              0              0     ...        \n",
       "4              0              0              0              0     ...        \n",
       "\n",
       "   Bayar_bulan_1  Bayar_bulan_2  Bayar_bulan_3  Bayar_bulan_4  Bayar_bulan_5  \\\n",
       "0              0              0              0              0              0   \n",
       "1           4347              0           2208           2475           7580   \n",
       "2              0            913            304              0            302   \n",
       "3           1300           1533           1391           1255           1273   \n",
       "4           1337           2000            666            714            810   \n",
       "\n",
       "   Bayar_bulan_6  Status  Total_tagihan  Selisih_kredit  Total_bayar  \n",
       "0              0       0           2500          357500            0  \n",
       "1              0       0          32486          267514        16610  \n",
       "2           7676       0           1492           18508         9195  \n",
       "3           1000       0         101614          168386         7752  \n",
       "4            600       0         116715          -96715         6127  \n",
       "\n",
       "[5 rows x 28 columns]"
      ]
     },
     "execution_count": 32,
     "metadata": {},
     "output_type": "execute_result"
    }
   ],
   "source": [
    "def totalbayar(series):\n",
    "    sum=0\n",
    "    for i in range(1,7):\n",
    "        st='Bayar_bulan_'+str(i)\n",
    "        sum += series[st]\n",
    "    return sum\n",
    "df['Total_bayar']=df.apply(totalbayar,axis='columns')\n",
    "df.head()"
   ]
  },
  {
   "cell_type": "code",
   "execution_count": 33,
   "metadata": {
    "collapsed": false
   },
   "outputs": [
    {
     "name": "stdout",
     "output_type": "stream",
     "text": [
      "NANI\n"
     ]
    }
   ],
   "source": [
    "print('NANI')"
   ]
  },
  {
   "cell_type": "code",
   "execution_count": 34,
   "metadata": {
    "collapsed": false
   },
   "outputs": [
    {
     "data": {
      "image/png": "[encoded data removed]",
      "text/plain": [
       "<matplotlib.figure.Figure at 0x993c860>"
      ]
     },
     "metadata": {},
     "output_type": "display_data"
    }
   ],
   "source": [
    "plt.scatter(x=df['Total_bayar'].values,y=df.Status)\n",
    "#plt.xscale('log')\n",
    "plt.show()"
   ]
  },
  {
   "cell_type": "code",
   "execution_count": 35,
   "metadata": {
    "collapsed": false
   },
   "outputs": [
    {
     "data": {
      "image/png": "[encoded data removed]",
      "text/plain": [
       "<matplotlib.figure.Figure at 0xa85bb38>"
      ]
     },
     "metadata": {},
     "output_type": "display_data"
    }
   ],
   "source": [
    "plt.scatter(x=df['Selisih_kredit'].values,y=df.Status)\n",
    "plt.xscale('log')\n",
    "plt.show()"
   ]
  },
  {
   "cell_type": "code",
   "execution_count": 36,
   "metadata": {
    "collapsed": false
   },
   "outputs": [
    {
     "data": {
      "image/png": "[encoded data removed]",
      "text/plain": [
       "<matplotlib.figure.Figure at 0xb3e2d30>"
      ]
     },
     "metadata": {},
     "output_type": "display_data"
    },
    {
     "data": {
      "image/png": "[encoded data removed]",
      "text/plain": [
       "<matplotlib.figure.Figure at 0xa964550>"
      ]
     },
     "metadata": {},
     "output_type": "display_data"
    },
    {
     "data": {
      "image/png": "[encoded data removed]",
      "text/plain": [
       "<matplotlib.figure.Figure at 0xa8df358>"
      ]
     },
     "metadata": {},
     "output_type": "display_data"
    },
    {
     "data": {
      "image/png": "[encoded data removed]",
      "text/plain": [
       "<matplotlib.figure.Figure at 0xa7a8b00>"
      ]
     },
     "metadata": {},
     "output_type": "display_data"
    },
    {
     "data": {
      "image/png": "[encoded data removed]",
      "text/plain": [
       "<matplotlib.figure.Figure at 0xa896f98>"
      ]
     },
     "metadata": {},
     "output_type": "display_data"
    },
    {
     "data": {
      "image/png": "[encoded data removed]",
      "text/plain": [
       "<matplotlib.figure.Figure at 0xa823320>"
      ]
     },
     "metadata": {},
     "output_type": "display_data"
    }
   ],
   "source": [
    "for i in range(1,7):\n",
    "    st='Waktu_bulan_' + str(i)\n",
    "    plt.scatter(x=df[st],y=df.Status)\n",
    "    plt.title(st)\n",
    "    plt.show()"
   ]
  },
  {
   "cell_type": "code",
   "execution_count": 37,
   "metadata": {
    "collapsed": false
   },
   "outputs": [
    {
     "data": {
      "image/png": "[encoded data removed]",
      "text/plain": [
       "<matplotlib.figure.Figure at 0xb475860>"
      ]
     },
     "metadata": {},
     "output_type": "display_data"
    },
    {
     "data": {
      "image/png": "[encoded data removed]",
      "text/plain": [
       "<matplotlib.figure.Figure at 0xa5eeda0>"
      ]
     },
     "metadata": {},
     "output_type": "display_data"
    },
    {
     "data": {
      "image/png": "[encoded data removed]",
      "text/plain": [
       "<matplotlib.figure.Figure at 0xa854400>"
      ]
     },
     "metadata": {},
     "output_type": "display_data"
    },
    {
     "data": {
      "image/png": "[encoded data removed]",
      "text/plain": [
       "<matplotlib.figure.Figure at 0xa73d908>"
      ]
     },
     "metadata": {},
     "output_type": "display_data"
    },
    {
     "data": {
      "image/png": "[encoded data removed]",
      "text/plain": [
       "<matplotlib.figure.Figure at 0xa6b2e10>"
      ]
     },
     "metadata": {},
     "output_type": "display_data"
    },
    {
     "data": {
      "image/png": "[encoded data removed]",
      "text/plain": [
       "<matplotlib.figure.Figure at 0x9a00c18>"
      ]
     },
     "metadata": {},
     "output_type": "display_data"
    }
   ],
   "source": [
    "for i in range(1,7):\n",
    "    st='Waktu_bulan_' + str(i)\n",
    "    sb=pd.crosstab(df[st],df.Status)\n",
    "    sb.plot(kind='bar')\n",
    "    plt.show()"
   ]
  },
  {
   "cell_type": "code",
   "execution_count": 38,
   "metadata": {
    "collapsed": false
   },
   "outputs": [
    {
     "data": {
      "text/html": [
       "<div>\n",
       "<table border=\"1\" class=\"dataframe\">\n",
       "  <thead>\n",
       "    <tr style=\"text-align: right;\">\n",
       "      <th></th>\n",
       "      <th>ID</th>\n",
       "      <th>Jumlah_kredit</th>\n",
       "      <th>Jenis_kelamin</th>\n",
       "      <th>Pendidikan</th>\n",
       "      <th>Status_Nikah</th>\n",
       "      <th>Umur</th>\n",
       "      <th>Waktu_bulan_1</th>\n",
       "      <th>Waktu_bulan_2</th>\n",
       "      <th>Waktu_bulan_3</th>\n",
       "      <th>Waktu_bulan_4</th>\n",
       "      <th>...</th>\n",
       "      <th>Bayar_bulan_1</th>\n",
       "      <th>Bayar_bulan_2</th>\n",
       "      <th>Bayar_bulan_3</th>\n",
       "      <th>Bayar_bulan_4</th>\n",
       "      <th>Bayar_bulan_5</th>\n",
       "      <th>Bayar_bulan_6</th>\n",
       "      <th>Status</th>\n",
       "      <th>Total_tagihan</th>\n",
       "      <th>Selisih_kredit</th>\n",
       "      <th>Total_bayar</th>\n",
       "    </tr>\n",
       "  </thead>\n",
       "  <tbody>\n",
       "    <tr>\n",
       "      <th>0</th>\n",
       "      <td>5770</td>\n",
       "      <td>360000</td>\n",
       "      <td>Male</td>\n",
       "      <td>Sarjana</td>\n",
       "      <td>Menikah</td>\n",
       "      <td>45</td>\n",
       "      <td>2</td>\n",
       "      <td>2</td>\n",
       "      <td>-2</td>\n",
       "      <td>-2</td>\n",
       "      <td>...</td>\n",
       "      <td>0</td>\n",
       "      <td>0</td>\n",
       "      <td>0</td>\n",
       "      <td>0</td>\n",
       "      <td>0</td>\n",
       "      <td>0</td>\n",
       "      <td>0</td>\n",
       "      <td>2500</td>\n",
       "      <td>357500</td>\n",
       "      <td>0</td>\n",
       "    </tr>\n",
       "    <tr>\n",
       "      <th>1</th>\n",
       "      <td>5772</td>\n",
       "      <td>300000</td>\n",
       "      <td>Male</td>\n",
       "      <td>Sarjana</td>\n",
       "      <td>Menikah</td>\n",
       "      <td>40</td>\n",
       "      <td>-2</td>\n",
       "      <td>-2</td>\n",
       "      <td>-2</td>\n",
       "      <td>-2</td>\n",
       "      <td>...</td>\n",
       "      <td>4347</td>\n",
       "      <td>0</td>\n",
       "      <td>2208</td>\n",
       "      <td>2475</td>\n",
       "      <td>7580</td>\n",
       "      <td>0</td>\n",
       "      <td>0</td>\n",
       "      <td>32486</td>\n",
       "      <td>267514</td>\n",
       "      <td>16610</td>\n",
       "    </tr>\n",
       "    <tr>\n",
       "      <th>2</th>\n",
       "      <td>5773</td>\n",
       "      <td>20000</td>\n",
       "      <td>Female</td>\n",
       "      <td>Master</td>\n",
       "      <td>Belum</td>\n",
       "      <td>22</td>\n",
       "      <td>-2</td>\n",
       "      <td>-2</td>\n",
       "      <td>-2</td>\n",
       "      <td>-2</td>\n",
       "      <td>...</td>\n",
       "      <td>0</td>\n",
       "      <td>913</td>\n",
       "      <td>304</td>\n",
       "      <td>0</td>\n",
       "      <td>302</td>\n",
       "      <td>7676</td>\n",
       "      <td>0</td>\n",
       "      <td>1492</td>\n",
       "      <td>18508</td>\n",
       "      <td>9195</td>\n",
       "    </tr>\n",
       "    <tr>\n",
       "      <th>3</th>\n",
       "      <td>5774</td>\n",
       "      <td>270000</td>\n",
       "      <td>Female</td>\n",
       "      <td>Sarjana</td>\n",
       "      <td>Belum</td>\n",
       "      <td>26</td>\n",
       "      <td>0</td>\n",
       "      <td>0</td>\n",
       "      <td>0</td>\n",
       "      <td>0</td>\n",
       "      <td>...</td>\n",
       "      <td>1300</td>\n",
       "      <td>1533</td>\n",
       "      <td>1391</td>\n",
       "      <td>1255</td>\n",
       "      <td>1273</td>\n",
       "      <td>1000</td>\n",
       "      <td>0</td>\n",
       "      <td>101614</td>\n",
       "      <td>168386</td>\n",
       "      <td>7752</td>\n",
       "    </tr>\n",
       "    <tr>\n",
       "      <th>4</th>\n",
       "      <td>5775</td>\n",
       "      <td>20000</td>\n",
       "      <td>Female</td>\n",
       "      <td>SMA</td>\n",
       "      <td>Belum</td>\n",
       "      <td>49</td>\n",
       "      <td>0</td>\n",
       "      <td>0</td>\n",
       "      <td>0</td>\n",
       "      <td>0</td>\n",
       "      <td>...</td>\n",
       "      <td>1337</td>\n",
       "      <td>2000</td>\n",
       "      <td>666</td>\n",
       "      <td>714</td>\n",
       "      <td>810</td>\n",
       "      <td>600</td>\n",
       "      <td>0</td>\n",
       "      <td>116715</td>\n",
       "      <td>-96715</td>\n",
       "      <td>6127</td>\n",
       "    </tr>\n",
       "  </tbody>\n",
       "</table>\n",
       "<p>5 rows × 28 columns</p>\n",
       "</div>"
      ],
      "text/plain": [
       "     ID  Jumlah_kredit Jenis_kelamin Pendidikan Status_Nikah  Umur  \\\n",
       "0  5770         360000          Male    Sarjana      Menikah    45   \n",
       "1  5772         300000          Male    Sarjana      Menikah    40   \n",
       "2  5773          20000        Female     Master        Belum    22   \n",
       "3  5774         270000        Female    Sarjana        Belum    26   \n",
       "4  5775          20000        Female        SMA        Belum    49   \n",
       "\n",
       "   Waktu_bulan_1  Waktu_bulan_2  Waktu_bulan_3  Waktu_bulan_4     ...       \\\n",
       "0              2              2             -2             -2     ...        \n",
       "1             -2             -2             -2             -2     ...        \n",
       "2             -2             -2             -2             -2     ...        \n",
       "3              0              0              0              0     ...        \n",
       "4              0              0              0              0     ...        \n",
       "\n",
       "   Bayar_bulan_1  Bayar_bulan_2  Bayar_bulan_3  Bayar_bulan_4  Bayar_bulan_5  \\\n",
       "0              0              0              0              0              0   \n",
       "1           4347              0           2208           2475           7580   \n",
       "2              0            913            304              0            302   \n",
       "3           1300           1533           1391           1255           1273   \n",
       "4           1337           2000            666            714            810   \n",
       "\n",
       "   Bayar_bulan_6  Status  Total_tagihan  Selisih_kredit  Total_bayar  \n",
       "0              0       0           2500          357500            0  \n",
       "1              0       0          32486          267514        16610  \n",
       "2           7676       0           1492           18508         9195  \n",
       "3           1000       0         101614          168386         7752  \n",
       "4            600       0         116715          -96715         6127  \n",
       "\n",
       "[5 rows x 28 columns]"
      ]
     },
     "execution_count": 38,
     "metadata": {},
     "output_type": "execute_result"
    }
   ],
   "source": [
    "df.head()"
   ]
  },
  {
   "cell_type": "code",
   "execution_count": 39,
   "metadata": {
    "collapsed": false
   },
   "outputs": [
    {
     "data": {
      "image/png": "[encoded data removed]",
      "text/plain": [
       "<matplotlib.figure.Figure at 0x990ec50>"
      ]
     },
     "metadata": {},
     "output_type": "display_data"
    },
    {
     "data": {
      "image/png": "[encoded data removed]",
      "text/plain": [
       "<matplotlib.figure.Figure at 0xa990cf8>"
      ]
     },
     "metadata": {},
     "output_type": "display_data"
    },
    {
     "data": {
      "image/png": "[encoded data removed]",
      "text/plain": [
       "<matplotlib.figure.Figure at 0x98c2a90>"
      ]
     },
     "metadata": {},
     "output_type": "display_data"
    },
    {
     "data": {
      "image/png": "[encoded data removed]",
      "text/plain": [
       "<matplotlib.figure.Figure at 0xa7a6908>"
      ]
     },
     "metadata": {},
     "output_type": "display_data"
    },
    {
     "data": {
      "image/png": "[encoded data removed]",
      "text/plain": [
       "<matplotlib.figure.Figure at 0xb550f98>"
      ]
     },
     "metadata": {},
     "output_type": "display_data"
    },
    {
     "data": {
      "image/png": "[encoded data removed]",
      "text/plain": [
       "<matplotlib.figure.Figure at 0xa818860>"
      ]
     },
     "metadata": {},
     "output_type": "display_data"
    }
   ],
   "source": [
    "for i in range(1,7):\n",
    "    st='Bayar_bulan_' + str(i)\n",
    "    plt.scatter(x=df[st],y=df.Status)\n",
    "    plt.xlabel(st)\n",
    "    plt.ylabel('Status')\n",
    "    plt.show()"
   ]
  },
  {
   "cell_type": "code",
   "execution_count": 40,
   "metadata": {
    "collapsed": false
   },
   "outputs": [
    {
     "data": {
      "image/png": "[encoded data removed]",
      "text/plain": [
       "<matplotlib.figure.Figure at 0xa990780>"
      ]
     },
     "metadata": {},
     "output_type": "display_data"
    },
    {
     "data": {
      "image/png": "[encoded data removed]",
      "text/plain": [
       "<matplotlib.figure.Figure at 0xb555198>"
      ]
     },
     "metadata": {},
     "output_type": "display_data"
    },
    {
     "data": {
      "image/png": "[encoded data removed]",
      "text/plain": [
       "<matplotlib.figure.Figure at 0xb53ad68>"
      ]
     },
     "metadata": {},
     "output_type": "display_data"
    },
    {
     "data": {
      "image/png": "[encoded data removed]",
      "text/plain": [
       "<matplotlib.figure.Figure at 0x9735f98>"
      ]
     },
     "metadata": {},
     "output_type": "display_data"
    },
    {
     "data": {
      "image/png": "[encoded data removed]",
      "text/plain": [
       "<matplotlib.figure.Figure at 0xa64aa20>"
      ]
     },
     "metadata": {},
     "output_type": "display_data"
    },
    {
     "data": {
      "image/png": "[encoded data removed]",
      "text/plain": [
       "<matplotlib.figure.Figure at 0x99b08d0>"
      ]
     },
     "metadata": {},
     "output_type": "display_data"
    },
    {
     "data": {
      "image/png": "[encoded data removed]",
      "text/plain": [
       "<matplotlib.figure.Figure at 0x9773f60>"
      ]
     },
     "metadata": {},
     "output_type": "display_data"
    },
    {
     "data": {
      "image/png": "[encoded data removed]",
      "text/plain": [
       "<matplotlib.figure.Figure at 0xa622f60>"
      ]
     },
     "metadata": {},
     "output_type": "display_data"
    },
    {
     "data": {
      "image/png": "[encoded data removed]",
      "text/plain": [
       "<matplotlib.figure.Figure at 0x98d6780>"
      ]
     },
     "metadata": {},
     "output_type": "display_data"
    },
    {
     "data": {
      "image/png": "[encoded data removed]",
      "text/plain": [
       "<matplotlib.figure.Figure at 0xa61e5c0>"
      ]
     },
     "metadata": {},
     "output_type": "display_data"
    },
    {
     "data": {
      "image/png": "[encoded data removed]",
      "text/plain": [
       "<matplotlib.figure.Figure at 0x99244e0>"
      ]
     },
     "metadata": {},
     "output_type": "display_data"
    },
    {
     "data": {
      "image/png": "[encoded data removed]",
      "text/plain": [
       "<matplotlib.figure.Figure at 0xa69a208>"
      ]
     },
     "metadata": {},
     "output_type": "display_data"
    }
   ],
   "source": [
    "for i in range(1,7):\n",
    "    st='Tagihan_bulan_' + str(i)\n",
    "    plt.scatter(x=df[st],y=df.Status)\n",
    "    plt.xlabel(st)\n",
    "    plt.ylabel('Status')\n",
    "    name=st + \".png\"\n",
    "    plt.savefig('Foto new/' + name)\n",
    "    plt.show()\n",
    "    #RE-Plot with LogScale\n",
    "    plt.scatter(x=df[st],y=df.Status)\n",
    "    plt.xlabel(st +\" log Scale\")\n",
    "    plt.ylabel('Status')\n",
    "    plt.xscale('log')\n",
    "    name=st +\"log scale\"+\".png\"\n",
    "    plt.savefig('Foto new/' + name)\n",
    "    plt.show()"
   ]
  },
  {
   "cell_type": "code",
   "execution_count": 41,
   "metadata": {
    "collapsed": false
   },
   "outputs": [
    {
     "data": {
      "image/png": "[encoded data removed]",
      "text/plain": [
       "<matplotlib.figure.Figure at 0xa6bdda0>"
      ]
     },
     "metadata": {},
     "output_type": "display_data"
    },
    {
     "data": {
      "image/png": "[encoded data removed]",
      "text/plain": [
       "<matplotlib.figure.Figure at 0xa964ac8>"
      ]
     },
     "metadata": {},
     "output_type": "display_data"
    }
   ],
   "source": [
    "plt.scatter(df['Total_tagihan'],df.Status)\n",
    "plt.xlabel('Total Tagihan')\n",
    "plt.ylabel('Status')\n",
    "plt.show()\n",
    "##Re Plot with Log\n",
    "plt.scatter(df['Total_tagihan'],df.Status)\n",
    "plt.xlabel('Total Tagihan')\n",
    "plt.ylabel('Status')\n",
    "plt.xscale('log')\n",
    "plt.show()"
   ]
  },
  {
   "cell_type": "markdown",
   "metadata": {},
   "source": [
    "Coba untuk hanya menggunakan Pendidikan,Status Nikah,Umur dan Jenis Kelamin"
   ]
  },
  {
   "cell_type": "code",
   "execution_count": 59,
   "metadata": {
    "collapsed": true
   },
   "outputs": [],
   "source": [
    "to_keep=['Jenis_kelamin','Pendidikan','Status_Nikah','Umur','Waktu_bulan_1','Total_tagihan','Jumlah_kredit']\n",
    "X=df.loc[:,to_keep]\n",
    "Y=df.loc[:,'Status']"
   ]
  },
  {
   "cell_type": "code",
   "execution_count": 60,
   "metadata": {
    "collapsed": false
   },
   "outputs": [
    {
     "name": "stdout",
     "output_type": "stream",
     "text": [
      "  Jenis_kelamin Pendidikan Status_Nikah  Umur  Waktu_bulan_1  Total_tagihan  \\\n",
      "0          Male    Sarjana      Menikah    45              2           2500   \n",
      "1          Male    Sarjana      Menikah    40             -2          32486   \n",
      "2        Female     Master        Belum    22             -2           1492   \n",
      "3        Female    Sarjana        Belum    26              0         101614   \n",
      "4        Female        SMA        Belum    49              0         116715   \n",
      "\n",
      "   Jumlah_kredit  \n",
      "0         360000  \n",
      "1         300000  \n",
      "2          20000  \n",
      "3         270000  \n",
      "4          20000  \n",
      "['Male' 'Female']\n",
      "['Sarjana' 'Master' 'SMA' 'Lainnya']\n",
      "['Menikah' 'Belum' 'Lainnya']\n"
     ]
    }
   ],
   "source": [
    "print(X.head())\n",
    "print(X['Jenis_kelamin'].unique())\n",
    "print(X['Pendidikan'].unique())\n",
    "print(X['Status_Nikah'].unique())"
   ]
  },
  {
   "cell_type": "code",
   "execution_count": 61,
   "metadata": {
    "collapsed": false
   },
   "outputs": [
    {
     "data": {
      "text/plain": [
       "0    0\n",
       "1    0\n",
       "2    0\n",
       "3    0\n",
       "4    0\n",
       "Name: Status, dtype: int64"
      ]
     },
     "execution_count": 61,
     "metadata": {},
     "output_type": "execute_result"
    }
   ],
   "source": [
    "Y.head()"
   ]
  },
  {
   "cell_type": "markdown",
   "metadata": {},
   "source": [
    "Sekarang String harus di convert ke float "
   ]
  },
  {
   "cell_type": "code",
   "execution_count": 62,
   "metadata": {
    "collapsed": false
   },
   "outputs": [
    {
     "name": "stdout",
     "output_type": "stream",
     "text": [
      "   Jenis_kelamin  Pendidikan  Status_Nikah  Umur  Waktu_bulan_1  \\\n",
      "0              0           2             0    45              2   \n",
      "1              0           2             0    40             -2   \n",
      "2              1           1             1    22             -2   \n",
      "3              1           2             1    26              0   \n",
      "4              1           3             1    49              0   \n",
      "\n",
      "   Total_tagihan  Jumlah_kredit  \n",
      "0           2500         360000  \n",
      "1          32486         300000  \n",
      "2           1492          20000  \n",
      "3         101614         270000  \n",
      "4         116715          20000  \n"
     ]
    }
   ],
   "source": [
    "def jkelamin(x):\n",
    "    if x=='Male':\n",
    "        return 0\n",
    "    else:\n",
    "        return 1\n",
    "def pendidikan(x):\n",
    "    p=0\n",
    "    if x=='Sarjana':\n",
    "        p=2\n",
    "    elif x=='Master':\n",
    "        p=1\n",
    "    elif x=='SMA':\n",
    "        p=3\n",
    "    else:\n",
    "        p=4\n",
    "    return p\n",
    "def statusnikah(x):\n",
    "    p=0\n",
    "    if x=='Menikah':\n",
    "        p=0\n",
    "    elif x=='Belum':\n",
    "        p=1\n",
    "    else:\n",
    "        p=2\n",
    "    return p\n",
    "\n",
    "X['Jenis_kelamin']=X['Jenis_kelamin'].apply(jkelamin)\n",
    "X['Pendidikan']=X['Pendidikan'].apply(pendidikan)\n",
    "X['Status_Nikah']=X['Status_Nikah'].apply(statusnikah)\n",
    "print(X.head())\n",
    "    \n",
    "    \n",
    "    "
   ]
  },
  {
   "cell_type": "code",
   "execution_count": 84,
   "metadata": {
    "collapsed": false
   },
   "outputs": [],
   "source": [
    "from sklearn.model_selection import train_test_split\n",
    "from sklearn.linear_model import LogisticRegression\n",
    "from sklearn.tree import DecisionTreeClassifier\n",
    "from sklearn.naive_bayes import *\n",
    "from sklearn.neighbors import *\n",
    "dt=DecisionTreeClassifier()\n",
    "x_train,x_test,y_train,y_test=train_test_split(X,Y,test_size=0.2,random_state=42)"
   ]
  },
  {
   "cell_type": "code",
   "execution_count": 85,
   "metadata": {
    "collapsed": false
   },
   "outputs": [
    {
     "data": {
      "text/plain": [
       "0.83738095238095234"
      ]
     },
     "execution_count": 85,
     "metadata": {},
     "output_type": "execute_result"
    }
   ],
   "source": [
    "dt.fit(x_train,y_train)\n",
    "dt.score(x_test,y_test)"
   ]
  },
  {
   "cell_type": "code",
   "execution_count": 86,
   "metadata": {
    "collapsed": false
   },
   "outputs": [
    {
     "data": {
      "text/plain": [
       "0.89595238095238094"
      ]
     },
     "execution_count": 86,
     "metadata": {},
     "output_type": "execute_result"
    }
   ],
   "source": [
    "lr=LogisticRegression()\n",
    "lr.fit(x_train,y_train)\n",
    "lr.score(x_test,y_test)"
   ]
  },
  {
   "cell_type": "code",
   "execution_count": 87,
   "metadata": {
    "collapsed": false
   },
   "outputs": [
    {
     "data": {
      "text/plain": [
       "0.89547619047619043"
      ]
     },
     "execution_count": 87,
     "metadata": {},
     "output_type": "execute_result"
    }
   ],
   "source": [
    "nb=GaussianNB()\n",
    "nb.fit(x_train,y_train)\n",
    "nb.score(x_test,y_test)"
   ]
  },
  {
   "cell_type": "code",
   "execution_count": 118,
   "metadata": {
    "collapsed": false
   },
   "outputs": [
    {
     "data": {
      "text/plain": [
       "0.89595238095238094"
      ]
     },
     "execution_count": 118,
     "metadata": {},
     "output_type": "execute_result"
    }
   ],
   "source": [
    "ng=KNeighborsClassifier(n_neighbors=14)\n",
    "ng.fit(x_train,y_train)\n",
    "ng.score(x_test,y_test)"
   ]
  },
  {
   "cell_type": "markdown",
   "metadata": {},
   "source": [
    "After a few try i think only need to put to the algorithm so i just get back to actual data set"
   ]
  },
  {
   "cell_type": "code",
   "execution_count": 101,
   "metadata": {
    "collapsed": true
   },
   "outputs": [],
   "source": [
    "df_new=pd.read_csv('train.csv')"
   ]
  },
  {
   "cell_type": "code",
   "execution_count": 110,
   "metadata": {
    "collapsed": false
   },
   "outputs": [],
   "source": [
    "to_keep_new=[ chr(i) for i in range(ord('B'),ord('Y'))]\n",
    "X_new=df_new.loc[:,to_keep_new]\n",
    "Y_new=df_new.loc[:,'Y']\n",
    "x_train,x_test,y_train,y_test=train_test_split(X_new,Y_new,test_size=0.2,random_state=42)"
   ]
  },
  {
   "cell_type": "code",
   "execution_count": 111,
   "metadata": {
    "collapsed": false
   },
   "outputs": [
    {
     "data": {
      "text/plain": [
       "0.83690476190476193"
      ]
     },
     "execution_count": 111,
     "metadata": {},
     "output_type": "execute_result"
    }
   ],
   "source": [
    "dt.fit(x_train,y_train)\n",
    "dt.score(x_test,y_test)"
   ]
  },
  {
   "cell_type": "code",
   "execution_count": 112,
   "metadata": {
    "collapsed": false
   },
   "outputs": [
    {
     "data": {
      "text/plain": [
       "0.89595238095238094"
      ]
     },
     "execution_count": 112,
     "metadata": {},
     "output_type": "execute_result"
    }
   ],
   "source": [
    "lr=LogisticRegression()\n",
    "lr.fit(x_train,y_train)\n",
    "lr.score(x_test,y_test)"
   ]
  },
  {
   "cell_type": "code",
   "execution_count": 125,
   "metadata": {
    "collapsed": false
   },
   "outputs": [
    {
     "data": {
      "text/plain": [
       "0.3880952380952381"
      ]
     },
     "execution_count": 125,
     "metadata": {},
     "output_type": "execute_result"
    }
   ],
   "source": [
    "nb=GaussianNB()\n",
    "nb.fit(x_train,y_train)\n",
    "nb.score(x_test,y_test)"
   ]
  },
  {
   "cell_type": "code",
   "execution_count": 124,
   "metadata": {
    "collapsed": false
   },
   "outputs": [
    {
     "data": {
      "text/plain": [
       "0.89595238095238094"
      ]
     },
     "execution_count": 124,
     "metadata": {},
     "output_type": "execute_result"
    }
   ],
   "source": [
    "ng=KNeighborsClassifier(n_neighbors=14)\n",
    "ng.fit(x_train,y_train)\n",
    "ng.score(x_test,y_test)"
   ]
  },
  {
   "cell_type": "code",
   "execution_count": 120,
   "metadata": {
    "collapsed": true
   },
   "outputs": [],
   "source": [
    "from sklearn.ensemble import *\n",
    "rf=RandomForestClassifier()"
   ]
  },
  {
   "cell_type": "code",
   "execution_count": 123,
   "metadata": {
    "collapsed": false
   },
   "outputs": [
    {
     "data": {
      "text/plain": [
       "0.90214285714285714"
      ]
     },
     "execution_count": 123,
     "metadata": {},
     "output_type": "execute_result"
    }
   ],
   "source": [
    "rf.fit(x_train,y_train)\n",
    "rf.score(x_test,y_test)"
   ]
  },
  {
   "cell_type": "markdown",
   "metadata": {},
   "source": [
    "After a Few algorithm put to try i going to use random forest  See ya on new Notebook"
   ]
  }
 ],
 "metadata": {
  "kernelspec": {
   "display_name": "Python 3",
   "language": "python",
   "name": "python3"
  },
  "language_info": {
   "codemirror_mode": {
    "name": "ipython",
    "version": 3
   },
   "file_extension": ".py",
   "mimetype": "text/x-python",
   "name": "python",
   "nbconvert_exporter": "python",
   "pygments_lexer": "ipython3",
   "version": "3.6.0"
  }
 },
 "nbformat": 4,
 "nbformat_minor": 2
}
